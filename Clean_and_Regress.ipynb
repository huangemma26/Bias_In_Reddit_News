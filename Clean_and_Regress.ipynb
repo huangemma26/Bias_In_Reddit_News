{
 "cells": [
  {
   "cell_type": "markdown",
   "metadata": {},
   "source": [
    "# Detecting Bias on Reddit Using NLP Analysis and Linear Regression\n",
    "\n",
    "Included in this notebook is data cleaning, visualizations, NLP analysis and the process of modeling with linear regression. The aim of this notebook is to detect bias in the news that Redditors receive while browsing the world news. This is done by seeing if certain features, specifically certain terms, can influence the amount of upvotes a world news post receives on Reddit. The number of upvotes influences how visible an article becomes on Reddit, so if a post initially receives many upvotes or downvotes because of the topic of the post, then those topics will be more or less likely to be seen by the average Reddit user.\n",
    "\n",
    "The final model for the analysis was made using linear regression.\n",
    "\n",
    "* Target Variable:\n",
    "    * Logged upvotes\n",
    "* Feature Variables:\n",
    "    * Article word counts\n",
    "    * Article TFIDF\n",
    "    * Linked website\n",
    "    * Time posted\n",
    "    * Age of post\n",
    "    * Title length\n",
    "\n",
    "Section breakdown:\n",
    "\n",
    "1. Import Libraries\n",
    "2. Import Dataframes\n",
    "3. Data Cleaning and Feature Engineering\n",
    "4. Feature Engineering\n",
    "5. Analyze the \"Upvote\" Variable\n",
    "6. Create Dummy Variables\n",
    "7. Convert Text Data to Sparse Matrix Using Count Vectorizer\n",
    "8. Convert Text Data to Sparse Matrix Using Tfidf Vectorizer\n",
    "9. Variables\n",
    "10. Make Potential Dataframes \n",
    "11. Regressions\n",
    "12. Top Word Distributions"
   ]
  },
  {
   "cell_type": "markdown",
   "metadata": {},
   "source": [
    "# 1. Import Libraries"
   ]
  },
  {
   "cell_type": "code",
   "execution_count": 2,
   "metadata": {},
   "outputs": [],
   "source": [
    "# Data Manipulation \n",
    "import pandas as pd\n",
    "import numpy as np\n",
    "import datetime\n",
    "import scipy.stats as stats\n",
    "\n",
    "# NLP Analysis\n",
    "from sklearn.feature_extraction.text import CountVectorizer\n",
    "from sklearn.feature_extraction.text import TfidfVectorizer\n",
    "import re\n",
    "\n",
    "# Plotting\n",
    "import matplotlib.pyplot as plt\n",
    "%matplotlib inline\n",
    "import seaborn as sns\n",
    "\n",
    "# Linear Regression \n",
    "from sklearn.model_selection import train_test_split, cross_val_score\n",
    "from sklearn.linear_model import LinearRegression, Lasso, LassoCV, Ridge, RidgeCV"
   ]
  },
  {
   "cell_type": "markdown",
   "metadata": {},
   "source": [
    "# 2. Import Data\n",
    " Obtained from web scraping (scraped multiple times to obtain more data as Reddit only saves a certain amount locally)"
   ]
  },
  {
   "cell_type": "code",
   "execution_count": 3,
   "metadata": {},
   "outputs": [],
   "source": [
    "df1 = pd.read_csv('raw_data/post_data_10_4.csv',index_col='Unnamed: 0')\n",
    "df2 = pd.read_csv('raw_data/post_data_10_6.csv',index_col='Unnamed: 0')\n",
    "df3 = pd.read_csv('raw_data/post_data_10_7.csv',index_col='Unnamed: 0')\n",
    "df4 = pd.read_csv('raw_data/post_data_10_8.csv',index_col='Unnamed: 0')\n",
    "df5 = pd.read_csv('raw_data/post_data_10_9.csv',index_col='Unnamed: 0')\n",
    "df6 = pd.read_csv('raw_data/post_data_10_10.csv',index_col='Unnamed: 0')"
   ]
  },
  {
   "cell_type": "code",
   "execution_count": 4,
   "metadata": {},
   "outputs": [],
   "source": [
    "df = pd.concat([df6,df5,df4,df3,df2,df1])"
   ]
  },
  {
   "cell_type": "code",
   "execution_count": 5,
   "metadata": {},
   "outputs": [],
   "source": [
    "# Remove all the duplicate posts that were overlapping due to the manner in which the data was obtained\n",
    "# Deletes the older posts so the posts with more upvotes, comments, etc are saved\n",
    "df = df.drop_duplicates(subset=['title']).reset_index(drop=True)"
   ]
  },
  {
   "cell_type": "code",
   "execution_count": 6,
   "metadata": {},
   "outputs": [
    {
     "data": {
      "text/html": [
       "<div>\n",
       "<style scoped>\n",
       "    .dataframe tbody tr th:only-of-type {\n",
       "        vertical-align: middle;\n",
       "    }\n",
       "\n",
       "    .dataframe tbody tr th {\n",
       "        vertical-align: top;\n",
       "    }\n",
       "\n",
       "    .dataframe thead th {\n",
       "        text-align: right;\n",
       "    }\n",
       "</style>\n",
       "<table border=\"1\" class=\"dataframe\">\n",
       "  <thead>\n",
       "    <tr style=\"text-align: right;\">\n",
       "      <th></th>\n",
       "      <th>upvotes</th>\n",
       "      <th>title</th>\n",
       "      <th>site</th>\n",
       "      <th>time_posted</th>\n",
       "      <th>post_age</th>\n",
       "      <th>comment_no</th>\n",
       "    </tr>\n",
       "  </thead>\n",
       "  <tbody>\n",
       "    <tr>\n",
       "      <th>0</th>\n",
       "      <td>0</td>\n",
       "      <td>The Far Right Isn’t the Only Rising Force in G...</td>\n",
       "      <td>theatlantic.com</td>\n",
       "      <td>2018-10-10 18:49:33</td>\n",
       "      <td>0 days 00:02:20.444008000</td>\n",
       "      <td>0</td>\n",
       "    </tr>\n",
       "    <tr>\n",
       "      <th>1</th>\n",
       "      <td>0</td>\n",
       "      <td>Mexico: Mayor accused of spending taxpayers' m...</td>\n",
       "      <td>mexiconewsdaily.com</td>\n",
       "      <td>2018-10-10 18:48:57</td>\n",
       "      <td>0 days 00:02:56.444011000</td>\n",
       "      <td>0</td>\n",
       "    </tr>\n",
       "    <tr>\n",
       "      <th>2</th>\n",
       "      <td>0</td>\n",
       "      <td>Chinese spy charged with stealing U.S. militar...</td>\n",
       "      <td>washingtonpost.com</td>\n",
       "      <td>2018-10-10 18:48:22</td>\n",
       "      <td>0 days 00:03:31.444012000</td>\n",
       "      <td>1</td>\n",
       "    </tr>\n",
       "    <tr>\n",
       "      <th>3</th>\n",
       "      <td>0</td>\n",
       "      <td>Mexico: 5 Mexico City police arrested for stea...</td>\n",
       "      <td>mexiconewsdaily.com</td>\n",
       "      <td>2018-10-10 18:43:55</td>\n",
       "      <td>0 days 00:07:58.444012000</td>\n",
       "      <td>0</td>\n",
       "    </tr>\n",
       "    <tr>\n",
       "      <th>4</th>\n",
       "      <td>0</td>\n",
       "      <td>Mexico: World Justice Project study finds weak...</td>\n",
       "      <td>mexiconewsdaily.com</td>\n",
       "      <td>2018-10-10 18:40:32</td>\n",
       "      <td>0 days 00:11:21.444013000</td>\n",
       "      <td>1</td>\n",
       "    </tr>\n",
       "  </tbody>\n",
       "</table>\n",
       "</div>"
      ],
      "text/plain": [
       "   upvotes                                              title  \\\n",
       "0        0  The Far Right Isn’t the Only Rising Force in G...   \n",
       "1        0  Mexico: Mayor accused of spending taxpayers' m...   \n",
       "2        0  Chinese spy charged with stealing U.S. militar...   \n",
       "3        0  Mexico: 5 Mexico City police arrested for stea...   \n",
       "4        0  Mexico: World Justice Project study finds weak...   \n",
       "\n",
       "                  site          time_posted                   post_age  \\\n",
       "0      theatlantic.com  2018-10-10 18:49:33  0 days 00:02:20.444008000   \n",
       "1  mexiconewsdaily.com  2018-10-10 18:48:57  0 days 00:02:56.444011000   \n",
       "2   washingtonpost.com  2018-10-10 18:48:22  0 days 00:03:31.444012000   \n",
       "3  mexiconewsdaily.com  2018-10-10 18:43:55  0 days 00:07:58.444012000   \n",
       "4  mexiconewsdaily.com  2018-10-10 18:40:32  0 days 00:11:21.444013000   \n",
       "\n",
       "   comment_no  \n",
       "0           0  \n",
       "1           0  \n",
       "2           1  \n",
       "3           0  \n",
       "4           1  "
      ]
     },
     "execution_count": 6,
     "metadata": {},
     "output_type": "execute_result"
    }
   ],
   "source": [
    "df.head()"
   ]
  },
  {
   "cell_type": "markdown",
   "metadata": {},
   "source": [
    "# 3. Data Cleaning (Non-text features)\n",
    "* Convert the time posted to datetime\n",
    "* Convert the age of the post to a timedelta\n",
    "* Delete posts under three hours\n",
    "    * In this way, posts that haven't had enough time for maximum upvote potential aren't taken into account"
   ]
  },
  {
   "cell_type": "code",
   "execution_count": 8,
   "metadata": {},
   "outputs": [],
   "source": [
    "# Convert to datetime\n",
    "df['time_posted'] = pd.to_datetime(df['time_posted'])"
   ]
  },
  {
   "cell_type": "code",
   "execution_count": 9,
   "metadata": {},
   "outputs": [],
   "source": [
    "# Convert post age to timedelta\n",
    "def to_timedelta(item):\n",
    "    return pd.Timedelta(item[:-10])\n",
    "\n",
    "df['post_age'] = df['post_age'].apply(to_timedelta)"
   ]
  },
  {
   "cell_type": "code",
   "execution_count": 42,
   "metadata": {},
   "outputs": [],
   "source": [
    "# Delete posts under three hours\n",
    "df = df[df.post_age >= three_hours].reset_index(drop=True)"
   ]
  },
  {
   "cell_type": "markdown",
   "metadata": {},
   "source": [
    "# 4. Feature Engineering\n",
    "\n",
    "Feautres created:\n",
    "* The hour of day that the post was made\n",
    "    * The time of day could impact upvote volume, as the volume of Reddit users changes throughout the day\n",
    "* Post title length\n",
    "    * This feature could affect the number of upvotes as shorter titles could be easier to read. Or longer titles could contain more interesting information"
   ]
  },
  {
   "cell_type": "code",
   "execution_count": 10,
   "metadata": {},
   "outputs": [],
   "source": [
    "# Hour of day that the post was made\n",
    "def to_hour(item):\n",
    "    return item.hour\n",
    "\n",
    "df['hour_posted'] = df['time_posted'].apply(to_hour)"
   ]
  },
  {
   "cell_type": "code",
   "execution_count": 14,
   "metadata": {},
   "outputs": [],
   "source": [
    "# Post title length\n",
    "def length(item):\n",
    "    sentence = item.split(\" \")\n",
    "    return len(sentence)\n",
    "\n",
    "df['title_length'] = df['title'].apply(length)"
   ]
  },
  {
   "cell_type": "code",
   "execution_count": 15,
   "metadata": {},
   "outputs": [
    {
     "data": {
      "text/html": [
       "<div>\n",
       "<style scoped>\n",
       "    .dataframe tbody tr th:only-of-type {\n",
       "        vertical-align: middle;\n",
       "    }\n",
       "\n",
       "    .dataframe tbody tr th {\n",
       "        vertical-align: top;\n",
       "    }\n",
       "\n",
       "    .dataframe thead th {\n",
       "        text-align: right;\n",
       "    }\n",
       "</style>\n",
       "<table border=\"1\" class=\"dataframe\">\n",
       "  <thead>\n",
       "    <tr style=\"text-align: right;\">\n",
       "      <th></th>\n",
       "      <th>upvotes</th>\n",
       "      <th>title</th>\n",
       "      <th>site</th>\n",
       "      <th>time_posted</th>\n",
       "      <th>post_age</th>\n",
       "      <th>comment_no</th>\n",
       "      <th>hour_posted</th>\n",
       "      <th>title_length</th>\n",
       "    </tr>\n",
       "  </thead>\n",
       "  <tbody>\n",
       "    <tr>\n",
       "      <th>0</th>\n",
       "      <td>7</td>\n",
       "      <td>Soaring Rice Prices Are Dulling Duterte’s Lust...</td>\n",
       "      <td>nytimes.com</td>\n",
       "      <td>2018-10-10 15:49:49</td>\n",
       "      <td>03:02:05</td>\n",
       "      <td>2</td>\n",
       "      <td>15</td>\n",
       "      <td>9</td>\n",
       "    </tr>\n",
       "    <tr>\n",
       "      <th>1</th>\n",
       "      <td>11</td>\n",
       "      <td>Man who sold stolen identities sentenced to pr...</td>\n",
       "      <td>reuters.com</td>\n",
       "      <td>2018-10-10 15:38:01</td>\n",
       "      <td>03:13:53</td>\n",
       "      <td>2</td>\n",
       "      <td>15</td>\n",
       "      <td>11</td>\n",
       "    </tr>\n",
       "    <tr>\n",
       "      <th>2</th>\n",
       "      <td>42</td>\n",
       "      <td>China okays massive re-education camps for Mus...</td>\n",
       "      <td>businessinsider.com</td>\n",
       "      <td>2018-10-10 15:35:19</td>\n",
       "      <td>03:16:35</td>\n",
       "      <td>8</td>\n",
       "      <td>15</td>\n",
       "      <td>13</td>\n",
       "    </tr>\n",
       "    <tr>\n",
       "      <th>3</th>\n",
       "      <td>17</td>\n",
       "      <td>Indonesian tourists vandalize Olmec monumental...</td>\n",
       "      <td>theyucatantimes.com</td>\n",
       "      <td>2018-10-10 15:28:44</td>\n",
       "      <td>03:23:10</td>\n",
       "      <td>5</td>\n",
       "      <td>15</td>\n",
       "      <td>8</td>\n",
       "    </tr>\n",
       "    <tr>\n",
       "      <th>4</th>\n",
       "      <td>5</td>\n",
       "      <td>UNESCO: Rachel's Tomb and Cave of Patriarchs p...</td>\n",
       "      <td>jpost.com</td>\n",
       "      <td>2018-10-10 15:27:11</td>\n",
       "      <td>03:24:43</td>\n",
       "      <td>7</td>\n",
       "      <td>15</td>\n",
       "      <td>11</td>\n",
       "    </tr>\n",
       "  </tbody>\n",
       "</table>\n",
       "</div>"
      ],
      "text/plain": [
       "   upvotes                                              title  \\\n",
       "0        7  Soaring Rice Prices Are Dulling Duterte’s Lust...   \n",
       "1       11  Man who sold stolen identities sentenced to pr...   \n",
       "2       42  China okays massive re-education camps for Mus...   \n",
       "3       17  Indonesian tourists vandalize Olmec monumental...   \n",
       "4        5  UNESCO: Rachel's Tomb and Cave of Patriarchs p...   \n",
       "\n",
       "                  site         time_posted post_age  comment_no  hour_posted  \\\n",
       "0          nytimes.com 2018-10-10 15:49:49 03:02:05           2           15   \n",
       "1          reuters.com 2018-10-10 15:38:01 03:13:53           2           15   \n",
       "2  businessinsider.com 2018-10-10 15:35:19 03:16:35           8           15   \n",
       "3  theyucatantimes.com 2018-10-10 15:28:44 03:23:10           5           15   \n",
       "4            jpost.com 2018-10-10 15:27:11 03:24:43           7           15   \n",
       "\n",
       "   title_length  \n",
       "0             9  \n",
       "1            11  \n",
       "2            13  \n",
       "3             8  \n",
       "4            11  "
      ]
     },
     "execution_count": 15,
     "metadata": {},
     "output_type": "execute_result"
    }
   ],
   "source": [
    "df.head()"
   ]
  },
  {
   "cell_type": "markdown",
   "metadata": {},
   "source": [
    "# 5. Analyze the \"Upvote\" Variable\n",
    "\n",
    "This is the target variable, so analysis of the variable is key."
   ]
  },
  {
   "cell_type": "code",
   "execution_count": 16,
   "metadata": {},
   "outputs": [
    {
     "name": "stderr",
     "output_type": "stream",
     "text": [
      "/anaconda3/lib/python3.6/site-packages/matplotlib/axes/_axes.py:6462: UserWarning: The 'normed' kwarg is deprecated, and has been replaced by the 'density' kwarg.\n",
      "  warnings.warn(\"The 'normed' kwarg is deprecated, and has been \"\n"
     ]
    },
    {
     "data": {
      "image/png": "[encoded data removed]",
      "text/plain": [
       "<Figure size 432x288 with 1 Axes>"
      ]
     },
     "metadata": {},
     "output_type": "display_data"
    }
   ],
   "source": [
    "# Plot the distribution \n",
    "upvotes = df['upvotes'].values\n",
    "sns.distplot(upvotes, color= '#FF5700');\n",
    "plt.title('Distribution of Upvotes', fontsize = 20, weight = 'bold')\n",
    "plt.xlabel('Number of upvotes', fontsize = 15)\n",
    "sns.despine();"
   ]
  },
  {
   "cell_type": "code",
   "execution_count": 17,
   "metadata": {},
   "outputs": [
    {
     "data": {
      "text/plain": [
       "count     2254.000000\n",
       "mean       887.414818\n",
       "std       6084.253352\n",
       "min          0.000000\n",
       "25%          5.000000\n",
       "50%         12.000000\n",
       "75%         39.000000\n",
       "max      93700.000000\n",
       "Name: upvotes, dtype: float64"
      ]
     },
     "execution_count": 17,
     "metadata": {},
     "output_type": "execute_result"
    }
   ],
   "source": [
    "df['upvotes'].describe()"
   ]
  },
  {
   "cell_type": "markdown",
   "metadata": {},
   "source": [
    "This is a very skewed distribution and needs to be normalized. In terms of regression, this will mean that the model can no longer predict a concrete amount of upvotes. Thankfully, we are more interested in upvotes on posts relative to other posts and than the actual score on each post, so this doesn't change the problem."
   ]
  },
  {
   "cell_type": "code",
   "execution_count": 18,
   "metadata": {},
   "outputs": [],
   "source": [
    "# Create a logged upvotes variable \n",
    "df[\"upvotes_logged\"] = np.log1p(df.upvotes)"
   ]
  },
  {
   "cell_type": "code",
   "execution_count": 20,
   "metadata": {},
   "outputs": [],
   "source": [
    "# Create a double logged upvotes variable\n",
    "df['double_log'] = np.log1p(df.upvotes_logged)"
   ]
  },
  {
   "cell_type": "code",
   "execution_count": 29,
   "metadata": {},
   "outputs": [
    {
     "name": "stderr",
     "output_type": "stream",
     "text": [
      "/anaconda3/lib/python3.6/site-packages/matplotlib/axes/_axes.py:6462: UserWarning: The 'normed' kwarg is deprecated, and has been replaced by the 'density' kwarg.\n",
      "  warnings.warn(\"The 'normed' kwarg is deprecated, and has been \"\n",
      "/anaconda3/lib/python3.6/site-packages/matplotlib/axes/_axes.py:6462: UserWarning: The 'normed' kwarg is deprecated, and has been replaced by the 'density' kwarg.\n",
      "  warnings.warn(\"The 'normed' kwarg is deprecated, and has been \"\n"
     ]
    },
    {
     "data": {
      "image/png": "[encoded data removed]",
      "text/plain": [
       "<Figure size 1080x360 with 2 Axes>"
      ]
     },
     "metadata": {},
     "output_type": "display_data"
    }
   ],
   "source": [
    "# Plot the distribution of logged upvotes\n",
    "\n",
    "plt.figure(figsize=[15,5])\n",
    "\n",
    "plt.subplot(1,2,1)\n",
    "sns.distplot(df['upvotes_logged'], color= '#FF5700')\n",
    "plt.title('Distribution of Logged Upvotes', fontsize = 20, weight = 'bold')\n",
    "plt.xlabel('Logged Upvotes', fontsize = 15)\n",
    "sns.despine();\n",
    "\n",
    "\n",
    "plt.subplot(1,2,2)\n",
    "sns.distplot(df['double_log'], color= '#FF5700')\n",
    "plt.title('Distribution of Double Logged Upvotes', fontsize = 20, weight = 'bold')\n",
    "plt.xlabel('Double Logged Upvotes', fontsize = 15)\n",
    "sns.despine();"
   ]
  },
  {
   "cell_type": "code",
   "execution_count": 23,
   "metadata": {},
   "outputs": [
    {
     "data": {
      "text/html": [
       "<div>\n",
       "<style scoped>\n",
       "    .dataframe tbody tr th:only-of-type {\n",
       "        vertical-align: middle;\n",
       "    }\n",
       "\n",
       "    .dataframe tbody tr th {\n",
       "        vertical-align: top;\n",
       "    }\n",
       "\n",
       "    .dataframe thead th {\n",
       "        text-align: right;\n",
       "    }\n",
       "</style>\n",
       "<table border=\"1\" class=\"dataframe\">\n",
       "  <thead>\n",
       "    <tr style=\"text-align: right;\">\n",
       "      <th></th>\n",
       "      <th>upvotes</th>\n",
       "      <th>post_age</th>\n",
       "      <th>comment_no</th>\n",
       "      <th>hour_posted</th>\n",
       "      <th>title_length</th>\n",
       "      <th>upvotes_logged</th>\n",
       "      <th>double_log</th>\n",
       "    </tr>\n",
       "  </thead>\n",
       "  <tbody>\n",
       "    <tr>\n",
       "      <th>count</th>\n",
       "      <td>2254.000000</td>\n",
       "      <td>2254</td>\n",
       "      <td>2254.000000</td>\n",
       "      <td>2254.000000</td>\n",
       "      <td>2254.000000</td>\n",
       "      <td>2254.000000</td>\n",
       "      <td>2254.000000</td>\n",
       "    </tr>\n",
       "    <tr>\n",
       "      <th>mean</th>\n",
       "      <td>887.414818</td>\n",
       "      <td>1 days 22:16:57.894853</td>\n",
       "      <td>70.420586</td>\n",
       "      <td>11.685892</td>\n",
       "      <td>14.936114</td>\n",
       "      <td>2.974696</td>\n",
       "      <td>1.262807</td>\n",
       "    </tr>\n",
       "    <tr>\n",
       "      <th>std</th>\n",
       "      <td>6084.253352</td>\n",
       "      <td>0 days 21:05:25.488515</td>\n",
       "      <td>394.964544</td>\n",
       "      <td>5.935801</td>\n",
       "      <td>10.077216</td>\n",
       "      <td>1.973716</td>\n",
       "      <td>0.498840</td>\n",
       "    </tr>\n",
       "    <tr>\n",
       "      <th>min</th>\n",
       "      <td>0.000000</td>\n",
       "      <td>0 days 03:02:05</td>\n",
       "      <td>0.000000</td>\n",
       "      <td>0.000000</td>\n",
       "      <td>4.000000</td>\n",
       "      <td>0.000000</td>\n",
       "      <td>0.000000</td>\n",
       "    </tr>\n",
       "    <tr>\n",
       "      <th>25%</th>\n",
       "      <td>5.000000</td>\n",
       "      <td>1 days 07:37:58.750000</td>\n",
       "      <td>1.000000</td>\n",
       "      <td>7.000000</td>\n",
       "      <td>9.000000</td>\n",
       "      <td>1.791759</td>\n",
       "      <td>1.026672</td>\n",
       "    </tr>\n",
       "    <tr>\n",
       "      <th>50%</th>\n",
       "      <td>12.000000</td>\n",
       "      <td>2 days 01:54:15</td>\n",
       "      <td>4.000000</td>\n",
       "      <td>12.000000</td>\n",
       "      <td>11.000000</td>\n",
       "      <td>2.564949</td>\n",
       "      <td>1.271150</td>\n",
       "    </tr>\n",
       "    <tr>\n",
       "      <th>75%</th>\n",
       "      <td>39.000000</td>\n",
       "      <td>2 days 13:51:39</td>\n",
       "      <td>13.000000</td>\n",
       "      <td>16.000000</td>\n",
       "      <td>15.000000</td>\n",
       "      <td>3.688879</td>\n",
       "      <td>1.545194</td>\n",
       "    </tr>\n",
       "    <tr>\n",
       "      <th>max</th>\n",
       "      <td>93700.000000</td>\n",
       "      <td>3 days 12:32:14</td>\n",
       "      <td>7730.000000</td>\n",
       "      <td>23.000000</td>\n",
       "      <td>53.000000</td>\n",
       "      <td>11.447864</td>\n",
       "      <td>2.521549</td>\n",
       "    </tr>\n",
       "  </tbody>\n",
       "</table>\n",
       "</div>"
      ],
      "text/plain": [
       "            upvotes                post_age   comment_no  hour_posted  \\\n",
       "count   2254.000000                    2254  2254.000000  2254.000000   \n",
       "mean     887.414818  1 days 22:16:57.894853    70.420586    11.685892   \n",
       "std     6084.253352  0 days 21:05:25.488515   394.964544     5.935801   \n",
       "min        0.000000         0 days 03:02:05     0.000000     0.000000   \n",
       "25%        5.000000  1 days 07:37:58.750000     1.000000     7.000000   \n",
       "50%       12.000000         2 days 01:54:15     4.000000    12.000000   \n",
       "75%       39.000000         2 days 13:51:39    13.000000    16.000000   \n",
       "max    93700.000000         3 days 12:32:14  7730.000000    23.000000   \n",
       "\n",
       "       title_length  upvotes_logged   double_log  \n",
       "count   2254.000000     2254.000000  2254.000000  \n",
       "mean      14.936114        2.974696     1.262807  \n",
       "std       10.077216        1.973716     0.498840  \n",
       "min        4.000000        0.000000     0.000000  \n",
       "25%        9.000000        1.791759     1.026672  \n",
       "50%       11.000000        2.564949     1.271150  \n",
       "75%       15.000000        3.688879     1.545194  \n",
       "max       53.000000       11.447864     2.521549  "
      ]
     },
     "execution_count": 23,
     "metadata": {},
     "output_type": "execute_result"
    }
   ],
   "source": [
    "df.describe()"
   ]
  },
  {
   "cell_type": "markdown",
   "metadata": {},
   "source": [
    "The distributions of both the logged and double logged upvotes are much closer to normal distributions than the original variable's. Because taking the double log creates quite a disproportionate amount of 0s, it makes sense to use the logged upvotes as the target."
   ]
  },
  {
   "cell_type": "markdown",
   "metadata": {},
   "source": [
    "# 6. Create Dummy Variables \n",
    "\n",
    "Dummy variables created:\n",
    "* Linked Sites:\n",
    "    * The original source of the news article posted on Reddit\n",
    "    * This feature could impact upvotes as some sites may be more credible or favored on Reddit\n",
    "* Time of Day Posted:\n",
    "    * The hour of the day that the post was created (saved as numbers, where each number represents an hour in a 24 hour clock)\n",
    "    * While there's already a \"Time of Day Posted\" variable, treating it as a dummy variable rather than a continuous one could combat the value of the hour of the day being treated as numerical and averaging out.\n",
    "* Age of the Post:\n",
    "    * How long the post had been up before the data was scraped\n",
    "    * While posts that were too new were already removed, time is definitely a factor in the number of upvotes as the longer a post has been up, the more opportunity it has to receive upvotes"
   ]
  },
  {
   "cell_type": "code",
   "execution_count": 43,
   "metadata": {},
   "outputs": [],
   "source": [
    "# Dummy variables for each linked site"
   ]
  },
  {
   "cell_type": "code",
   "execution_count": 31,
   "metadata": {},
   "outputs": [],
   "source": [
    "sites_dummy = pd.get_dummies(df['site'])\n",
    "# Drop infrequently used sites to prevent overfitting\n",
    "sites_dummy.drop([col for col, val in sites_dummy.sum().iteritems() if val < 15], axis=1, inplace=True)"
   ]
  },
  {
   "cell_type": "code",
   "execution_count": 40,
   "metadata": {},
   "outputs": [
    {
     "data": {
      "image/png": "[encoded data removed]",
      "text/plain": [
       "<Figure size 432x288 with 1 Axes>"
      ]
     },
     "metadata": {},
     "output_type": "display_data"
    }
   ],
   "source": [
    "# Plot the distribution\n",
    "plt.hist(sites_dummy.sum(), color= '#FF5700')\n",
    "plt.title('Distribution of Linked Sites', fontsize = 20, weight = 'bold')\n",
    "plt.xlabel('Number of Likes', fontsize = 15)\n",
    "plt.ylabel('Number of Sites', fontsize = 15)\n",
    "sns.despine();"
   ]
  },
  {
   "cell_type": "code",
   "execution_count": 41,
   "metadata": {},
   "outputs": [
    {
     "data": {
      "text/plain": [
       "reuters.com            261\n",
       "theguardian.com        246\n",
       "bbc.com                130\n",
       "bbc.co.uk               62\n",
       "independent.co.uk       49\n",
       "aljazeera.com           46\n",
       "dw.com                  45\n",
       "edition.cnn.com         37\n",
       "cbc.ca                  34\n",
       "apnews.com              32\n",
       "nytimes.com             31\n",
       "cnbc.com                31\n",
       "washingtonpost.com      26\n",
       "timesofisrael.com       24\n",
       "news.sky.com            24\n",
       "abc.net.au              24\n",
       "bloomberg.com           23\n",
       "thedailybeast.com       23\n",
       "cnn.com                 21\n",
       "japantimes.co.jp        20\n",
       "channelnewsasia.com     19\n",
       "businessinsider.com     19\n",
       "abcnews.go.com          19\n",
       "scmp.com                17\n",
       "france24.com            16\n",
       "themoscowtimes.com      16\n",
       "en.crimerussia.com      15\n",
       "euractiv.com            15\n",
       "dailymail.co.uk         15\n",
       "dtype: int64"
      ]
     },
     "execution_count": 41,
     "metadata": {},
     "output_type": "execute_result"
    }
   ],
   "source": [
    "sites_dummy.sum().sort_values(ascending=False)"
   ]
  },
  {
   "cell_type": "markdown",
   "metadata": {},
   "source": [
    "The sites listed above are the most frequently listed. Reuters, The Guardian, and BBC are by far the most commonly linked sites."
   ]
  },
  {
   "cell_type": "code",
   "execution_count": 27,
   "metadata": {},
   "outputs": [],
   "source": [
    "# Time posted dummy variables"
   ]
  },
  {
   "cell_type": "code",
   "execution_count": 28,
   "metadata": {},
   "outputs": [],
   "source": [
    "hour_dummy = pd.get_dummies(df['hour_posted'])"
   ]
  },
  {
   "cell_type": "code",
   "execution_count": 29,
   "metadata": {},
   "outputs": [
    {
     "data": {
      "image/png": "[encoded data removed]",
      "text/plain": [
       "<Figure size 432x288 with 1 Axes>"
      ]
     },
     "metadata": {},
     "output_type": "display_data"
    }
   ],
   "source": [
    "# Plot the posts by time of day\n",
    "hour_dummy.sum().plot(color= '#FF5700')\n",
    "plt.title('Post Volume by Time of Day', fontsize = 15, weight = 'bold')\n",
    "plt.ylabel('Number of Posts', fontsize = 12)\n",
    "plt.xlabel('Time of Day by Hour (in UTC)', fontsize = 12)\n",
    "sns.despine();"
   ]
  },
  {
   "cell_type": "markdown",
   "metadata": {},
   "source": [
    "Most Reddit users seem to post at UTC 13:00, which could be first thing in the morning for a large portion of the users."
   ]
  },
  {
   "cell_type": "code",
   "execution_count": 30,
   "metadata": {},
   "outputs": [],
   "source": [
    "# Post age dummy variables"
   ]
  },
  {
   "cell_type": "code",
   "execution_count": 44,
   "metadata": {},
   "outputs": [],
   "source": [
    "# Make bins in increments of 5 hours with labels\n",
    "bins = []\n",
    "labels = []\n",
    "for item in range(0,90,5):\n",
    "    string = str(item) + 'hours'\n",
    "    bins.append(pd.Timedelta(string))\n",
    "    labels.append(item)\n",
    "    \n",
    "labels = labels[1:]"
   ]
  },
  {
   "cell_type": "code",
   "execution_count": 45,
   "metadata": {},
   "outputs": [],
   "source": [
    "# Categorize each post into a bin\n",
    "df['post_age_hours'] = pd.cut(df['post_age'], bins=bins, labels=labels)"
   ]
  },
  {
   "cell_type": "code",
   "execution_count": 46,
   "metadata": {},
   "outputs": [],
   "source": [
    "# Create the dummy variables\n",
    "age_dummy = pd.get_dummies(df['post_age_hours'])"
   ]
  },
  {
   "cell_type": "markdown",
   "metadata": {},
   "source": [
    "# 7. Convert Text Data to Sparse Matrix Using Count Vectorizer"
   ]
  },
  {
   "cell_type": "code",
   "execution_count": 34,
   "metadata": {},
   "outputs": [],
   "source": [
    "# Convert title to only letters\n",
    "df['title'] = df['title'].str.replace('[^a-z, A-Z]', '')"
   ]
  },
  {
   "cell_type": "code",
   "execution_count": 35,
   "metadata": {},
   "outputs": [],
   "source": [
    "count_vect = CountVectorizer(stop_words = 'english', ngram_range=(1, 2))\n",
    "counts = count_vect.fit_transform(df['title'])"
   ]
  },
  {
   "cell_type": "code",
   "execution_count": 36,
   "metadata": {},
   "outputs": [
    {
     "data": {
      "text/plain": [
       "(2254, 24153)"
      ]
     },
     "execution_count": 36,
     "metadata": {},
     "output_type": "execute_result"
    }
   ],
   "source": [
    "counts.shape"
   ]
  },
  {
   "cell_type": "code",
   "execution_count": 37,
   "metadata": {},
   "outputs": [],
   "source": [
    "# Create a sparse matrix with the counts\n",
    "def wm2df(wm, feat_names):\n",
    "    doc_names = ['{:d}'.format(idx) for idx, _ in enumerate(wm)]\n",
    "    df = pd.DataFrame(data=wm.toarray(), index=doc_names,\n",
    "                      columns=feat_names)\n",
    "    return(df)\n",
    "tokens = count_vect.get_feature_names()\n",
    "count_words_df = wm2df(counts, tokens)"
   ]
  },
  {
   "cell_type": "code",
   "execution_count": 38,
   "metadata": {},
   "outputs": [],
   "source": [
    "common_words = count_words_df.sum().sort_values()"
   ]
  },
  {
   "cell_type": "code",
   "execution_count": 39,
   "metadata": {},
   "outputs": [
    {
     "data": {
      "text/plain": [
       "trump       70\n",
       "india       72\n",
       "said        77\n",
       "russia      79\n",
       "russian     86\n",
       "uk          96\n",
       "saudi      107\n",
       "new        128\n",
       "china      141\n",
       "says       176\n",
       "dtype: int64"
      ]
     },
     "execution_count": 39,
     "metadata": {},
     "output_type": "execute_result"
    }
   ],
   "source": [
    "# See common words\n",
    "common_words.tail(10)"
   ]
  },
  {
   "cell_type": "code",
   "execution_count": 40,
   "metadata": {},
   "outputs": [],
   "source": [
    "# Sparse matrix without seldom used words\n",
    "word_series = common_words.loc[common_words >= 10]\n",
    "word_list = list(word_series.index.values)\n",
    "select_count = count_words_df[word_list]"
   ]
  },
  {
   "cell_type": "code",
   "execution_count": 41,
   "metadata": {},
   "outputs": [
    {
     "name": "stderr",
     "output_type": "stream",
     "text": [
      "/anaconda3/lib/python3.6/site-packages/ipykernel_launcher.py:2: SettingWithCopyWarning: \n",
      "A value is trying to be set on a copy of a slice from a DataFrame.\n",
      "Try using .loc[row_indexer,col_indexer] = value instead\n",
      "\n",
      "See the caveats in the documentation: http://pandas.pydata.org/pandas-docs/stable/indexing.html#indexing-view-versus-copy\n",
      "  \n"
     ]
    }
   ],
   "source": [
    "# Create a variable that is the number of top words used divided by length of the post\n",
    "select_count['sum'] = select_count.sum(axis=1)\n",
    "count_whole_df = pd.concat([df.reset_index(drop=True), select_count.reset_index(drop=True)], axis= 1)\n",
    "count_whole_df[\"average\"] = (count_whole_df[\"sum\"]/count_whole_df[\"title_length\"])\n",
    "count_avg = count_whole_df[\"average\"]"
   ]
  },
  {
   "cell_type": "markdown",
   "metadata": {},
   "source": [
    "# 8. Convert Text Data to Sparse Matrix Using Tfidf Vectorizer"
   ]
  },
  {
   "cell_type": "code",
   "execution_count": 42,
   "metadata": {},
   "outputs": [],
   "source": [
    "count_vect = TfidfVectorizer(stop_words = 'english', ngram_range=(1, 2))\n",
    "counts = count_vect.fit_transform(df['title'])"
   ]
  },
  {
   "cell_type": "code",
   "execution_count": 43,
   "metadata": {},
   "outputs": [],
   "source": [
    "tokens = count_vect.get_feature_names()\n",
    "tfidf_words_df = wm2df(counts, tokens)"
   ]
  },
  {
   "cell_type": "code",
   "execution_count": 44,
   "metadata": {},
   "outputs": [],
   "source": [
    "common_words = tfidf_words_df.sum().sort_values()"
   ]
  },
  {
   "cell_type": "code",
   "execution_count": 45,
   "metadata": {},
   "outputs": [
    {
     "data": {
      "text/plain": [
       "north      10.447365\n",
       "trump      10.719499\n",
       "india      12.184080\n",
       "russian    12.591774\n",
       "russia     12.684590\n",
       "uk         12.688546\n",
       "new        14.570317\n",
       "saudi      15.682268\n",
       "china      19.247975\n",
       "says       21.184221\n",
       "dtype: float64"
      ]
     },
     "execution_count": 45,
     "metadata": {},
     "output_type": "execute_result"
    }
   ],
   "source": [
    "common_words.tail(10)"
   ]
  },
  {
   "cell_type": "code",
   "execution_count": 46,
   "metadata": {},
   "outputs": [],
   "source": [
    "# Sparse matrix without seldom used words\n",
    "word_series = common_words.loc[common_words >= 1.4]\n",
    "word_list = list(word_series.index.values)\n",
    "select_tfidf = tfidf_words_df[word_list]"
   ]
  },
  {
   "cell_type": "code",
   "execution_count": 47,
   "metadata": {},
   "outputs": [],
   "source": [
    "# Create a variable that is the number of top words used divided by length of the post\n",
    "tfidf_words_df['sum'] = tfidf_words_df.sum(axis=1)\n",
    "tfidf_avg = tfidf_words_df[\"sum\"]"
   ]
  },
  {
   "cell_type": "markdown",
   "metadata": {},
   "source": [
    "# 9. Variables\n",
    "\n",
    "For convenience, all variables listed below."
   ]
  },
  {
   "cell_type": "code",
   "execution_count": 48,
   "metadata": {},
   "outputs": [],
   "source": [
    "upvote_df = df['upvotes']\n",
    "log_upvote_df = df['upvotes_logged']\n",
    "len_df = df['title_length']\n",
    "time_df = df['time_posted']\n",
    "df_age = pd.concat([df, age_dummy], axis = 1)\n",
    "age_df = df['post_age']\n",
    "comment_df = df['comment_no']"
   ]
  },
  {
   "cell_type": "code",
   "execution_count": 49,
   "metadata": {},
   "outputs": [],
   "source": [
    "# df\n",
    "\n",
    "# upvote_df\n",
    "# log_upvote_df\n",
    "# double_log\n",
    "\n",
    "# count_words_df\n",
    "# select_count\n",
    "# count_avg\n",
    "\n",
    "# tfidf_words_df\n",
    "# select_tfidf\n",
    "# tfidf_avg\n",
    "\n",
    "# len_df\n",
    "\n",
    "# sites_dummy \n",
    "\n",
    "# time_df\n",
    "# hour_dummy\n",
    "\n",
    "# age_df\n",
    "# age_dummy\n",
    "\n",
    "# comment_df"
   ]
  },
  {
   "cell_type": "markdown",
   "metadata": {},
   "source": [
    "# 10. Make Dataframes\n",
    "\n",
    "Make potential combinations of features for regression. Keep them as separate dataframes to track combinations."
   ]
  },
  {
   "cell_type": "code",
   "execution_count": 50,
   "metadata": {},
   "outputs": [],
   "source": [
    "def to_secs(item):\n",
    "    return item.total_seconds()"
   ]
  },
  {
   "cell_type": "code",
   "execution_count": 51,
   "metadata": {},
   "outputs": [],
   "source": [
    "# Test relationship between time of day and upvotes\n",
    "df1 = pd.concat([log_upvote_df.reset_index(drop=True),\n",
    "                 hour_dummy.reset_index(drop=True),\n",
    "                ], axis= 1)"
   ]
  },
  {
   "cell_type": "code",
   "execution_count": 52,
   "metadata": {},
   "outputs": [],
   "source": [
    "# Test how good tfidf is on its own\n",
    "df2 = pd.concat([log_upvote_df.reset_index(drop=True),\n",
    "                 tfidf_words_df.reset_index(drop=True),\n",
    "                ], axis= 1)"
   ]
  },
  {
   "cell_type": "code",
   "execution_count": 53,
   "metadata": {},
   "outputs": [],
   "source": [
    "# Try without upvote outliers\n",
    "df3 = df2[df2.upvotes_logged <= 6.0].reset_index()"
   ]
  },
  {
   "cell_type": "code",
   "execution_count": 54,
   "metadata": {},
   "outputs": [],
   "source": [
    "# Try with more features\n",
    "df4 = pd.concat([log_upvote_df.reset_index(drop=True),\n",
    "                 select_tfidf.reset_index(drop=True),\n",
    "                 len_df.reset_index(drop=True),\n",
    "                 hour_dummy.reset_index(drop=True),\n",
    "                 age_dummy.reset_index(drop=True)\n",
    "                ], axis= 1)"
   ]
  },
  {
   "cell_type": "code",
   "execution_count": 55,
   "metadata": {},
   "outputs": [],
   "source": [
    "# Again without upvote outliers\n",
    "df5 = df4[df4.upvotes_logged <= 6.0].reset_index()"
   ]
  },
  {
   "cell_type": "code",
   "execution_count": 56,
   "metadata": {},
   "outputs": [],
   "source": [
    "# Same but with continuous age instead of dummies\n",
    "df6 = pd.concat([log_upvote_df.reset_index(drop=True),\n",
    "                 select_tfidf.reset_index(drop=True),\n",
    "                 len_df.reset_index(drop=True),\n",
    "                 hour_dummy.reset_index(drop=True),\n",
    "                 age_df.reset_index(drop=True)\n",
    "                ], axis= 1)\n",
    "df6['post_age'] = df6['post_age'].apply(to_secs)"
   ]
  },
  {
   "cell_type": "code",
   "execution_count": 57,
   "metadata": {},
   "outputs": [],
   "source": [
    "# Same but with sites\n",
    "df7 = pd.concat([log_upvote_df.reset_index(drop=True),\n",
    "                  select_tfidf.reset_index(drop=True),\n",
    "                  len_df.reset_index(drop=True),\n",
    "                  sites_dummy.reset_index(drop=True),\n",
    "                  hour_dummy.reset_index(drop=True),\n",
    "                  age_df.reset_index(drop=True)\n",
    "                ], axis= 1)\n",
    "df7['post_age'] = df7['post_age'].apply(to_secs)"
   ]
  },
  {
   "cell_type": "code",
   "execution_count": 58,
   "metadata": {},
   "outputs": [],
   "source": [
    "# Same with double log on upvotes\n",
    "df8 = pd.concat([double_log.reset_index(drop=True),\n",
    "                  select_tfidf.reset_index(drop=True),\n",
    "                  len_df.reset_index(drop=True),\n",
    "                  sites_dummy.reset_index(drop=True),\n",
    "                  hour_dummy.reset_index(drop=True),\n",
    "                  age_df.reset_index(drop=True)\n",
    "                ], axis= 1)\n",
    "df8['post_age'] = df8['post_age'].apply(to_secs)"
   ]
  },
  {
   "cell_type": "code",
   "execution_count": 59,
   "metadata": {},
   "outputs": [],
   "source": [
    "# Same but with single log\n",
    "df9 = pd.concat([log_upvote_df.reset_index(drop=True),\n",
    "                 select_tfidf.reset_index(drop=True),\n",
    "                 len_df.reset_index(drop=True),\n",
    "                  sites_dummy.reset_index(drop=True),\n",
    "                 age_df.reset_index(drop=True)\n",
    "                ], axis= 1)\n",
    "df9['post_age'] = df9['post_age'].apply(to_secs)"
   ]
  },
  {
   "cell_type": "code",
   "execution_count": 60,
   "metadata": {},
   "outputs": [],
   "source": [
    "# Same but without hour dummies \n",
    "df10 = pd.concat([double_log.reset_index(drop=True),\n",
    "                 select_tfidf.reset_index(drop=True),\n",
    "                 len_df.reset_index(drop=True),\n",
    "                  sites_dummy.reset_index(drop=True),\n",
    "                 age_df.reset_index(drop=True)\n",
    "                ], axis= 1)\n",
    "df10['post_age'] = df10['post_age'].apply(to_secs)"
   ]
  },
  {
   "cell_type": "code",
   "execution_count": 61,
   "metadata": {},
   "outputs": [],
   "source": [
    "# Best set of features\n",
    "df11 = pd.concat([log_upvote_df.reset_index(drop=True),\n",
    "                 select_count.reset_index(drop=True),\n",
    "                 len_df.reset_index(drop=True),\n",
    "                 age_df.reset_index(drop=True),\n",
    "                ], axis= 1)\n",
    "df11['post_age'] = df11['post_age'].apply(to_secs)"
   ]
  },
  {
   "cell_type": "code",
   "execution_count": 62,
   "metadata": {},
   "outputs": [],
   "source": [
    "# Visualization Dataframe\n",
    "df12 = pd.concat([log_upvote_df.reset_index(drop=True),\n",
    "                 select_count.reset_index(drop=True),\n",
    "                ], axis= 1)"
   ]
  },
  {
   "cell_type": "markdown",
   "metadata": {},
   "source": [
    "# 11. Regressions"
   ]
  },
  {
   "cell_type": "code",
   "execution_count": 63,
   "metadata": {},
   "outputs": [],
   "source": [
    "lr = LinearRegression()"
   ]
  },
  {
   "cell_type": "code",
   "execution_count": 64,
   "metadata": {},
   "outputs": [],
   "source": [
    "# df1"
   ]
  },
  {
   "cell_type": "code",
   "execution_count": 65,
   "metadata": {},
   "outputs": [],
   "source": [
    "X = df1.loc[:, df1.columns != 'upvotes_logged']\n",
    "y = df1['upvotes_logged']\n",
    "X_train, X_test, y_train, y_test = train_test_split(X, y, test_size=0.2,random_state=42)"
   ]
  },
  {
   "cell_type": "code",
   "execution_count": 66,
   "metadata": {},
   "outputs": [
    {
     "data": {
      "text/plain": [
       "array([-0.03345006, -0.02746699, -0.00393135, -0.00392097, -0.02261835,\n",
       "       -0.04981983,  0.00060541, -0.00448453, -0.00672628, -0.02259913])"
      ]
     },
     "execution_count": 66,
     "metadata": {},
     "output_type": "execute_result"
    }
   ],
   "source": [
    "cross_val_score(lr, X_train, y_train,\n",
    "                cv=10,\n",
    "                scoring='r2') "
   ]
  },
  {
   "cell_type": "code",
   "execution_count": 67,
   "metadata": {},
   "outputs": [
    {
     "data": {
      "text/plain": [
       "RidgeCV(alphas=(0.1, 1.0, 10.0), cv=5, fit_intercept=True, gcv_mode=None,\n",
       "    normalize=False, scoring=None, store_cv_values=False)"
      ]
     },
     "execution_count": 67,
     "metadata": {},
     "output_type": "execute_result"
    }
   ],
   "source": [
    "rcv = RidgeCV(cv=5)\n",
    "rcv.fit(X_train, y_train)"
   ]
  },
  {
   "cell_type": "code",
   "execution_count": 68,
   "metadata": {},
   "outputs": [
    {
     "data": {
      "text/plain": [
       "0.017064593110406534"
      ]
     },
     "execution_count": 68,
     "metadata": {},
     "output_type": "execute_result"
    }
   ],
   "source": [
    "rcv.score(X_train, y_train)"
   ]
  },
  {
   "cell_type": "code",
   "execution_count": 69,
   "metadata": {},
   "outputs": [
    {
     "data": {
      "text/plain": [
       "-0.0013829020611808573"
      ]
     },
     "execution_count": 69,
     "metadata": {},
     "output_type": "execute_result"
    }
   ],
   "source": [
    "rcv.score(X_test, y_test)"
   ]
  },
  {
   "cell_type": "code",
   "execution_count": null,
   "metadata": {},
   "outputs": [],
   "source": []
  },
  {
   "cell_type": "code",
   "execution_count": 70,
   "metadata": {},
   "outputs": [],
   "source": [
    "# df2"
   ]
  },
  {
   "cell_type": "code",
   "execution_count": 71,
   "metadata": {},
   "outputs": [],
   "source": [
    "X = df2.loc[:, df2.columns != 'upvotes_logged']\n",
    "y = df2['upvotes_logged']"
   ]
  },
  {
   "cell_type": "code",
   "execution_count": 72,
   "metadata": {},
   "outputs": [],
   "source": [
    "X_train, X_test, y_train, y_test = train_test_split(X, y, test_size=0.2,random_state=42)"
   ]
  },
  {
   "cell_type": "code",
   "execution_count": 73,
   "metadata": {},
   "outputs": [],
   "source": [
    "rcv = RidgeCV(alphas=(0.1, 1, 5, 10, 20.0,100), cv=5)"
   ]
  },
  {
   "cell_type": "code",
   "execution_count": 74,
   "metadata": {},
   "outputs": [
    {
     "data": {
      "text/plain": [
       "RidgeCV(alphas=(0.1, 1, 5, 10, 20.0, 100), cv=5, fit_intercept=True,\n",
       "    gcv_mode=None, normalize=False, scoring=None, store_cv_values=False)"
      ]
     },
     "execution_count": 74,
     "metadata": {},
     "output_type": "execute_result"
    }
   ],
   "source": [
    "rcv.fit(X_train, y_train)"
   ]
  },
  {
   "cell_type": "code",
   "execution_count": 75,
   "metadata": {},
   "outputs": [
    {
     "data": {
      "text/plain": [
       "1"
      ]
     },
     "execution_count": 75,
     "metadata": {},
     "output_type": "execute_result"
    }
   ],
   "source": [
    "rcv.alpha_"
   ]
  },
  {
   "cell_type": "code",
   "execution_count": 76,
   "metadata": {},
   "outputs": [
    {
     "data": {
      "text/plain": [
       "0.7423977216049572"
      ]
     },
     "execution_count": 76,
     "metadata": {},
     "output_type": "execute_result"
    }
   ],
   "source": [
    "rcv.score(X_train, y_train)"
   ]
  },
  {
   "cell_type": "code",
   "execution_count": 77,
   "metadata": {},
   "outputs": [
    {
     "data": {
      "text/plain": [
       "0.10610178002533499"
      ]
     },
     "execution_count": 77,
     "metadata": {},
     "output_type": "execute_result"
    }
   ],
   "source": [
    "rcv.score(X_test, y_test)"
   ]
  },
  {
   "cell_type": "code",
   "execution_count": 78,
   "metadata": {},
   "outputs": [],
   "source": [
    "results = rcv.predict(X_train)"
   ]
  },
  {
   "cell_type": "code",
   "execution_count": 79,
   "metadata": {},
   "outputs": [
    {
     "data": {
      "text/plain": [
       "<matplotlib.collections.PathCollection at 0x10d0f5cc0>"
      ]
     },
     "execution_count": 79,
     "metadata": {},
     "output_type": "execute_result"
    },
    {
     "data": {
      "image/png": "[encoded data removed]",
      "text/plain": [
       "<Figure size 432x288 with 1 Axes>"
      ]
     },
     "metadata": {},
     "output_type": "display_data"
    }
   ],
   "source": [
    "plt.scatter(results,y_train-results,alpha=.1)\n",
    "# plt.plot(np.linspace(0,10,10),np.linspace(0,10,10))"
   ]
  },
  {
   "cell_type": "code",
   "execution_count": 80,
   "metadata": {},
   "outputs": [
    {
     "data": {
      "text/plain": [
       "0.10610178002533499"
      ]
     },
     "execution_count": 80,
     "metadata": {},
     "output_type": "execute_result"
    }
   ],
   "source": [
    "rcv.score(X_test, y_test)"
   ]
  },
  {
   "cell_type": "code",
   "execution_count": 81,
   "metadata": {},
   "outputs": [],
   "source": [
    "# try Lasso"
   ]
  },
  {
   "cell_type": "code",
   "execution_count": 82,
   "metadata": {},
   "outputs": [
    {
     "data": {
      "text/plain": [
       "LassoCV(alphas=None, copy_X=True, cv=5, eps=0.001, fit_intercept=True,\n",
       "    max_iter=1000, n_alphas=100, n_jobs=1, normalize=False, positive=False,\n",
       "    precompute='auto', random_state=None, selection='cyclic', tol=0.0001,\n",
       "    verbose=False)"
      ]
     },
     "execution_count": 82,
     "metadata": {},
     "output_type": "execute_result"
    }
   ],
   "source": [
    "lcv = LassoCV(cv=5)\n",
    "lcv.fit(X_train, y_train)"
   ]
  },
  {
   "cell_type": "code",
   "execution_count": 83,
   "metadata": {},
   "outputs": [
    {
     "data": {
      "text/plain": [
       "0.03997930305238129"
      ]
     },
     "execution_count": 83,
     "metadata": {},
     "output_type": "execute_result"
    }
   ],
   "source": [
    "lcv.score(X_train, y_train)"
   ]
  },
  {
   "cell_type": "code",
   "execution_count": 84,
   "metadata": {},
   "outputs": [
    {
     "data": {
      "text/plain": [
       "0.07547475580898266"
      ]
     },
     "execution_count": 84,
     "metadata": {},
     "output_type": "execute_result"
    }
   ],
   "source": [
    "lcv.score(X_test, y_test)"
   ]
  },
  {
   "cell_type": "code",
   "execution_count": null,
   "metadata": {},
   "outputs": [],
   "source": []
  },
  {
   "cell_type": "code",
   "execution_count": 85,
   "metadata": {},
   "outputs": [],
   "source": [
    "# df3\n",
    "X = df3.loc[:, df3.columns != 'upvotes_logged']\n",
    "y = df3['upvotes_logged']\n",
    "X_train, X_test, y_train, y_test = train_test_split(X, y, test_size=0.2,random_state=42)"
   ]
  },
  {
   "cell_type": "code",
   "execution_count": 86,
   "metadata": {},
   "outputs": [],
   "source": [
    "rcv = RidgeCV(alphas=(0.1,1,2,3,50.0), cv=5)"
   ]
  },
  {
   "cell_type": "code",
   "execution_count": 87,
   "metadata": {},
   "outputs": [
    {
     "data": {
      "text/plain": [
       "RidgeCV(alphas=(0.1, 1, 2, 3, 50.0), cv=5, fit_intercept=True, gcv_mode=None,\n",
       "    normalize=False, scoring=None, store_cv_values=False)"
      ]
     },
     "execution_count": 87,
     "metadata": {},
     "output_type": "execute_result"
    }
   ],
   "source": [
    "rcv.fit(X_train, y_train)"
   ]
  },
  {
   "cell_type": "code",
   "execution_count": 88,
   "metadata": {},
   "outputs": [
    {
     "data": {
      "text/plain": [
       "3"
      ]
     },
     "execution_count": 88,
     "metadata": {},
     "output_type": "execute_result"
    }
   ],
   "source": [
    "rcv.alpha_"
   ]
  },
  {
   "cell_type": "code",
   "execution_count": 89,
   "metadata": {},
   "outputs": [
    {
     "data": {
      "text/plain": [
       "0.45651101527879134"
      ]
     },
     "execution_count": 89,
     "metadata": {},
     "output_type": "execute_result"
    }
   ],
   "source": [
    "rcv.score(X_train, y_train)"
   ]
  },
  {
   "cell_type": "code",
   "execution_count": 90,
   "metadata": {},
   "outputs": [
    {
     "data": {
      "text/plain": [
       "0.0396769983241434"
      ]
     },
     "execution_count": 90,
     "metadata": {},
     "output_type": "execute_result"
    }
   ],
   "source": [
    "rcv.score(X_test, y_test)"
   ]
  },
  {
   "cell_type": "code",
   "execution_count": null,
   "metadata": {},
   "outputs": [],
   "source": []
  },
  {
   "cell_type": "code",
   "execution_count": 91,
   "metadata": {},
   "outputs": [],
   "source": [
    "# df4"
   ]
  },
  {
   "cell_type": "code",
   "execution_count": 92,
   "metadata": {},
   "outputs": [],
   "source": [
    "X = df4.loc[:, df4.columns != 'upvotes_logged']\n",
    "y = df4['upvotes_logged']\n",
    "X_train, X_test, y_train, y_test = train_test_split(X, y, test_size=0.2,random_state=42)"
   ]
  },
  {
   "cell_type": "code",
   "execution_count": 93,
   "metadata": {},
   "outputs": [],
   "source": [
    "rcv = RidgeCV(alphas=(0.1, 1,10, 20.0, 100), cv=5)"
   ]
  },
  {
   "cell_type": "code",
   "execution_count": 94,
   "metadata": {},
   "outputs": [
    {
     "data": {
      "text/plain": [
       "RidgeCV(alphas=(0.1, 1, 10, 20.0, 100), cv=5, fit_intercept=True,\n",
       "    gcv_mode=None, normalize=False, scoring=None, store_cv_values=False)"
      ]
     },
     "execution_count": 94,
     "metadata": {},
     "output_type": "execute_result"
    }
   ],
   "source": [
    "rcv.fit(X_train, y_train)"
   ]
  },
  {
   "cell_type": "code",
   "execution_count": 95,
   "metadata": {},
   "outputs": [
    {
     "data": {
      "text/plain": [
       "100"
      ]
     },
     "execution_count": 95,
     "metadata": {},
     "output_type": "execute_result"
    }
   ],
   "source": [
    "rcv.alpha_"
   ]
  },
  {
   "cell_type": "code",
   "execution_count": 96,
   "metadata": {},
   "outputs": [
    {
     "data": {
      "text/plain": [
       "0.0737454513643685"
      ]
     },
     "execution_count": 96,
     "metadata": {},
     "output_type": "execute_result"
    }
   ],
   "source": [
    "rcv.score(X_train, y_train)"
   ]
  },
  {
   "cell_type": "code",
   "execution_count": 97,
   "metadata": {},
   "outputs": [
    {
     "data": {
      "text/plain": [
       "0.09455049031099128"
      ]
     },
     "execution_count": 97,
     "metadata": {},
     "output_type": "execute_result"
    }
   ],
   "source": [
    "rcv.score(X_test, y_test)"
   ]
  },
  {
   "cell_type": "code",
   "execution_count": null,
   "metadata": {},
   "outputs": [],
   "source": []
  },
  {
   "cell_type": "code",
   "execution_count": 98,
   "metadata": {},
   "outputs": [],
   "source": [
    "# df5"
   ]
  },
  {
   "cell_type": "code",
   "execution_count": 99,
   "metadata": {},
   "outputs": [],
   "source": [
    "X = df5.loc[:, df5.columns != 'upvotes_logged']\n",
    "y = df5['upvotes_logged']\n",
    "X_train, X_test, y_train, y_test = train_test_split(X, y, test_size=0.2,random_state=42)"
   ]
  },
  {
   "cell_type": "code",
   "execution_count": 100,
   "metadata": {},
   "outputs": [],
   "source": [
    "rcv = RidgeCV(alphas=(186.0, 187.0, 189.0, 190.0), cv=5)"
   ]
  },
  {
   "cell_type": "code",
   "execution_count": 101,
   "metadata": {},
   "outputs": [
    {
     "data": {
      "text/plain": [
       "RidgeCV(alphas=(186.0, 187.0, 189.0, 190.0), cv=5, fit_intercept=True,\n",
       "    gcv_mode=None, normalize=False, scoring=None, store_cv_values=False)"
      ]
     },
     "execution_count": 101,
     "metadata": {},
     "output_type": "execute_result"
    }
   ],
   "source": [
    "rcv.fit(X_train, y_train)"
   ]
  },
  {
   "cell_type": "code",
   "execution_count": 102,
   "metadata": {},
   "outputs": [
    {
     "data": {
      "text/plain": [
       "186.0"
      ]
     },
     "execution_count": 102,
     "metadata": {},
     "output_type": "execute_result"
    }
   ],
   "source": [
    "rcv.alpha_"
   ]
  },
  {
   "cell_type": "code",
   "execution_count": 103,
   "metadata": {},
   "outputs": [
    {
     "data": {
      "text/plain": [
       "0.06635455551976177"
      ]
     },
     "execution_count": 103,
     "metadata": {},
     "output_type": "execute_result"
    }
   ],
   "source": [
    "rcv.score(X_train, y_train)"
   ]
  },
  {
   "cell_type": "code",
   "execution_count": 104,
   "metadata": {},
   "outputs": [
    {
     "data": {
      "text/plain": [
       "0.025494504139539242"
      ]
     },
     "execution_count": 104,
     "metadata": {},
     "output_type": "execute_result"
    }
   ],
   "source": [
    "rcv.score(X_test, y_test)"
   ]
  },
  {
   "cell_type": "code",
   "execution_count": null,
   "metadata": {},
   "outputs": [],
   "source": []
  },
  {
   "cell_type": "code",
   "execution_count": 105,
   "metadata": {},
   "outputs": [],
   "source": [
    "# df6 (BEST)"
   ]
  },
  {
   "cell_type": "code",
   "execution_count": 106,
   "metadata": {},
   "outputs": [],
   "source": [
    "X = df6.loc[:, df6.columns != 'upvotes_logged']\n",
    "y = df6['upvotes_logged']\n",
    "X_train, X_test, y_train, y_test = train_test_split(X, y, test_size=0.2,random_state=42)"
   ]
  },
  {
   "cell_type": "code",
   "execution_count": 107,
   "metadata": {},
   "outputs": [],
   "source": [
    "rcv = RidgeCV(alphas=(0.1,1,2,3, 4,5,6,7, 10,1000), cv=5)"
   ]
  },
  {
   "cell_type": "code",
   "execution_count": 108,
   "metadata": {},
   "outputs": [
    {
     "data": {
      "text/plain": [
       "RidgeCV(alphas=(0.1, 1, 2, 3, 4, 5, 6, 7, 10, 1000), cv=5, fit_intercept=True,\n",
       "    gcv_mode=None, normalize=False, scoring=None, store_cv_values=False)"
      ]
     },
     "execution_count": 108,
     "metadata": {},
     "output_type": "execute_result"
    }
   ],
   "source": [
    "rcv.fit(X_train, y_train)"
   ]
  },
  {
   "cell_type": "code",
   "execution_count": 109,
   "metadata": {},
   "outputs": [
    {
     "data": {
      "text/plain": [
       "2"
      ]
     },
     "execution_count": 109,
     "metadata": {},
     "output_type": "execute_result"
    }
   ],
   "source": [
    "rcv.alpha_"
   ]
  },
  {
   "cell_type": "code",
   "execution_count": 110,
   "metadata": {},
   "outputs": [
    {
     "data": {
      "text/plain": [
       "0.20237334167217202"
      ]
     },
     "execution_count": 110,
     "metadata": {},
     "output_type": "execute_result"
    }
   ],
   "source": [
    "rcv.score(X_train, y_train)"
   ]
  },
  {
   "cell_type": "code",
   "execution_count": 111,
   "metadata": {},
   "outputs": [
    {
     "data": {
      "text/plain": [
       "0.11224435472709404"
      ]
     },
     "execution_count": 111,
     "metadata": {},
     "output_type": "execute_result"
    }
   ],
   "source": [
    "rcv.score(X_test, y_test)"
   ]
  },
  {
   "cell_type": "code",
   "execution_count": null,
   "metadata": {},
   "outputs": [],
   "source": []
  },
  {
   "cell_type": "code",
   "execution_count": 112,
   "metadata": {},
   "outputs": [],
   "source": [
    "# df7"
   ]
  },
  {
   "cell_type": "code",
   "execution_count": 113,
   "metadata": {},
   "outputs": [],
   "source": [
    "X = df7.loc[:, df7.columns != 'upvotes_logged']\n",
    "y = df7['upvotes_logged']\n",
    "X_train, X_test, y_train, y_test = train_test_split(X, y, test_size=0.2,random_state=42)"
   ]
  },
  {
   "cell_type": "code",
   "execution_count": 114,
   "metadata": {},
   "outputs": [],
   "source": [
    "rcv = RidgeCV(alphas=(30.75,31.0,31.25), cv=5)"
   ]
  },
  {
   "cell_type": "code",
   "execution_count": 115,
   "metadata": {},
   "outputs": [
    {
     "data": {
      "text/plain": [
       "RidgeCV(alphas=(30.75, 31.0, 31.25), cv=5, fit_intercept=True, gcv_mode=None,\n",
       "    normalize=False, scoring=None, store_cv_values=False)"
      ]
     },
     "execution_count": 115,
     "metadata": {},
     "output_type": "execute_result"
    }
   ],
   "source": [
    "rcv.fit(X_train, y_train)"
   ]
  },
  {
   "cell_type": "code",
   "execution_count": 116,
   "metadata": {},
   "outputs": [
    {
     "data": {
      "text/plain": [
       "31.25"
      ]
     },
     "execution_count": 116,
     "metadata": {},
     "output_type": "execute_result"
    }
   ],
   "source": [
    "rcv.alpha_"
   ]
  },
  {
   "cell_type": "code",
   "execution_count": 117,
   "metadata": {},
   "outputs": [
    {
     "data": {
      "text/plain": [
       "0.10690882578255345"
      ]
     },
     "execution_count": 117,
     "metadata": {},
     "output_type": "execute_result"
    }
   ],
   "source": [
    "rcv.score(X_train, y_train)"
   ]
  },
  {
   "cell_type": "code",
   "execution_count": 118,
   "metadata": {},
   "outputs": [
    {
     "data": {
      "text/plain": [
       "0.10272982157820099"
      ]
     },
     "execution_count": 118,
     "metadata": {},
     "output_type": "execute_result"
    }
   ],
   "source": [
    "rcv.score(X_test, y_test)"
   ]
  },
  {
   "cell_type": "code",
   "execution_count": null,
   "metadata": {},
   "outputs": [],
   "source": []
  },
  {
   "cell_type": "code",
   "execution_count": 119,
   "metadata": {},
   "outputs": [],
   "source": [
    "# df8"
   ]
  },
  {
   "cell_type": "code",
   "execution_count": 120,
   "metadata": {},
   "outputs": [],
   "source": [
    "X = df7.loc[:, df7.columns != 'upvotes_logged']\n",
    "y = df7['upvotes_logged']\n",
    "X_train, X_test, y_train, y_test = train_test_split(X, y, test_size=0.2,random_state=42)"
   ]
  },
  {
   "cell_type": "code",
   "execution_count": 121,
   "metadata": {},
   "outputs": [],
   "source": [
    "rcv = RidgeCV(alphas=(30.75,31.0,31.25), cv=5)"
   ]
  },
  {
   "cell_type": "code",
   "execution_count": 122,
   "metadata": {},
   "outputs": [
    {
     "data": {
      "text/plain": [
       "RidgeCV(alphas=(30.75, 31.0, 31.25), cv=5, fit_intercept=True, gcv_mode=None,\n",
       "    normalize=False, scoring=None, store_cv_values=False)"
      ]
     },
     "execution_count": 122,
     "metadata": {},
     "output_type": "execute_result"
    }
   ],
   "source": [
    "rcv.fit(X_train, y_train)"
   ]
  },
  {
   "cell_type": "code",
   "execution_count": 123,
   "metadata": {},
   "outputs": [
    {
     "data": {
      "text/plain": [
       "31.25"
      ]
     },
     "execution_count": 123,
     "metadata": {},
     "output_type": "execute_result"
    }
   ],
   "source": [
    "rcv.alpha_"
   ]
  },
  {
   "cell_type": "code",
   "execution_count": 124,
   "metadata": {},
   "outputs": [
    {
     "data": {
      "text/plain": [
       "0.10690882578255345"
      ]
     },
     "execution_count": 124,
     "metadata": {},
     "output_type": "execute_result"
    }
   ],
   "source": [
    "rcv.score(X_train, y_train)"
   ]
  },
  {
   "cell_type": "code",
   "execution_count": 125,
   "metadata": {},
   "outputs": [
    {
     "data": {
      "text/plain": [
       "0.10272982157820099"
      ]
     },
     "execution_count": 125,
     "metadata": {},
     "output_type": "execute_result"
    }
   ],
   "source": [
    "rcv.score(X_test, y_test)"
   ]
  },
  {
   "cell_type": "code",
   "execution_count": null,
   "metadata": {},
   "outputs": [],
   "source": []
  },
  {
   "cell_type": "code",
   "execution_count": 126,
   "metadata": {},
   "outputs": [],
   "source": [
    "# df9"
   ]
  },
  {
   "cell_type": "code",
   "execution_count": 127,
   "metadata": {},
   "outputs": [],
   "source": [
    "X = df9.loc[:, df9.columns != 'upvotes_logged']\n",
    "y = df9['upvotes_logged']\n",
    "X_train, X_test, y_train, y_test = train_test_split(X, y, test_size=0.2,random_state=42)"
   ]
  },
  {
   "cell_type": "code",
   "execution_count": 128,
   "metadata": {},
   "outputs": [],
   "source": [
    "rcv = RidgeCV(alphas=(9.5,10,10.5), cv=5)"
   ]
  },
  {
   "cell_type": "code",
   "execution_count": 129,
   "metadata": {},
   "outputs": [
    {
     "data": {
      "text/plain": [
       "RidgeCV(alphas=(9.5, 10, 10.5), cv=5, fit_intercept=True, gcv_mode=None,\n",
       "    normalize=False, scoring=None, store_cv_values=False)"
      ]
     },
     "execution_count": 129,
     "metadata": {},
     "output_type": "execute_result"
    }
   ],
   "source": [
    "rcv.fit(X_train, y_train)"
   ]
  },
  {
   "cell_type": "code",
   "execution_count": 130,
   "metadata": {},
   "outputs": [
    {
     "data": {
      "text/plain": [
       "9.5"
      ]
     },
     "execution_count": 130,
     "metadata": {},
     "output_type": "execute_result"
    }
   ],
   "source": [
    "rcv.alpha_"
   ]
  },
  {
   "cell_type": "code",
   "execution_count": 131,
   "metadata": {},
   "outputs": [
    {
     "data": {
      "text/plain": [
       "0.12926006409606783"
      ]
     },
     "execution_count": 131,
     "metadata": {},
     "output_type": "execute_result"
    }
   ],
   "source": [
    "rcv.score(X_train, y_train)"
   ]
  },
  {
   "cell_type": "code",
   "execution_count": 132,
   "metadata": {},
   "outputs": [
    {
     "data": {
      "text/plain": [
       "0.10986896685722845"
      ]
     },
     "execution_count": 132,
     "metadata": {},
     "output_type": "execute_result"
    }
   ],
   "source": [
    "rcv.score(X_test, y_test)"
   ]
  },
  {
   "cell_type": "code",
   "execution_count": null,
   "metadata": {},
   "outputs": [],
   "source": []
  },
  {
   "cell_type": "code",
   "execution_count": 133,
   "metadata": {},
   "outputs": [],
   "source": [
    "# df10"
   ]
  },
  {
   "cell_type": "code",
   "execution_count": 134,
   "metadata": {},
   "outputs": [],
   "source": [
    "X = df10.loc[:, df10.columns != 'upvotes_logged']\n",
    "y = df10['upvotes_logged']\n",
    "X_train, X_test, y_train, y_test = train_test_split(X, y, test_size=0.2,random_state=42)"
   ]
  },
  {
   "cell_type": "code",
   "execution_count": 135,
   "metadata": {},
   "outputs": [],
   "source": [
    "rcv = RidgeCV(alphas=(1,1.25,1.5,1.75,2.1,2.25), cv=5)"
   ]
  },
  {
   "cell_type": "code",
   "execution_count": 136,
   "metadata": {},
   "outputs": [
    {
     "data": {
      "text/plain": [
       "RidgeCV(alphas=(1, 1.25, 1.5, 1.75, 2.1, 2.25), cv=5, fit_intercept=True,\n",
       "    gcv_mode=None, normalize=False, scoring=None, store_cv_values=False)"
      ]
     },
     "execution_count": 136,
     "metadata": {},
     "output_type": "execute_result"
    }
   ],
   "source": [
    "rcv.fit(X_train, y_train)"
   ]
  },
  {
   "cell_type": "code",
   "execution_count": 137,
   "metadata": {},
   "outputs": [
    {
     "data": {
      "text/plain": [
       "1.75"
      ]
     },
     "execution_count": 137,
     "metadata": {},
     "output_type": "execute_result"
    }
   ],
   "source": [
    "rcv.alpha_"
   ]
  },
  {
   "cell_type": "code",
   "execution_count": 138,
   "metadata": {},
   "outputs": [
    {
     "data": {
      "text/plain": [
       "0.23256932630057736"
      ]
     },
     "execution_count": 138,
     "metadata": {},
     "output_type": "execute_result"
    }
   ],
   "source": [
    "rcv.score(X_train, y_train)"
   ]
  },
  {
   "cell_type": "code",
   "execution_count": 139,
   "metadata": {},
   "outputs": [
    {
     "data": {
      "text/plain": [
       "0.10902164902943856"
      ]
     },
     "execution_count": 139,
     "metadata": {},
     "output_type": "execute_result"
    }
   ],
   "source": [
    "rcv.score(X_test, y_test)"
   ]
  },
  {
   "cell_type": "code",
   "execution_count": null,
   "metadata": {},
   "outputs": [],
   "source": []
  },
  {
   "cell_type": "code",
   "execution_count": 140,
   "metadata": {},
   "outputs": [],
   "source": [
    "# df11"
   ]
  },
  {
   "cell_type": "code",
   "execution_count": 141,
   "metadata": {},
   "outputs": [
    {
     "data": {
      "text/plain": [
       "80"
      ]
     },
     "execution_count": 141,
     "metadata": {},
     "output_type": "execute_result"
    }
   ],
   "source": [
    "X = df11.loc[:, df11.columns != 'upvotes_logged']\n",
    "y = df11['upvotes_logged']\n",
    "X_train, X_test, y_train, y_test = train_test_split(X, y, test_size=0.2,random_state=42)\n",
    "rcv = RidgeCV(alphas=(1,5,33,66,80,100), cv=5)\n",
    "fit = rcv.fit(X_train, y_train)\n",
    "rcv.alpha_"
   ]
  },
  {
   "cell_type": "code",
   "execution_count": 142,
   "metadata": {},
   "outputs": [
    {
     "data": {
      "text/plain": [
       "[('missing', -0.2356598259887111),\n",
       " ('military', -0.22226126342546676),\n",
       " ('khashoggi', -0.2142663523400846),\n",
       " ('jamal', -0.21115560226158106),\n",
       " ('visit', -0.2093393739690576),\n",
       " ('trade deal', -0.18843357341602493),\n",
       " ('iran', -0.18605576182338376),\n",
       " ('government', -0.18363788060194022),\n",
       " ('north', -0.17420257332837388),\n",
       " ('saudi', -0.17301305361055627),\n",
       " ('health', -0.16534662295049113),\n",
       " ('prison', -0.1624382408427186),\n",
       " ('officers', -0.1615202666842002),\n",
       " ('australian', -0.16149556038001134),\n",
       " ('dies', -0.1550624459297385),\n",
       " ('climate change', -0.15080628643413035),\n",
       " ('india', -0.14176418657475567),\n",
       " ('change', -0.13821896472416434),\n",
       " ('prime minister', -0.13743027298693955),\n",
       " ('sydney opera', -0.13622831753196424),\n",
       " ('public', -0.13462965253760276),\n",
       " ('ambassador', -0.12794997587478327),\n",
       " ('british', -0.12715319863508254),\n",
       " ('prize', -0.12651118905184566),\n",
       " ('years', -0.12401447090042242),\n",
       " ('west', -0.12388477232419813),\n",
       " ('worlds', -0.1220100855719762),\n",
       " ('reportedly', -0.12165965572339155),\n",
       " ('human', -0.12165243329480713),\n",
       " ('kong', -0.12080375739708465),\n",
       " ('shows', -0.12080375739708464),\n",
       " ('concerns', -0.11903642171753571),\n",
       " ('doctor', -0.11865347832328159),\n",
       " ('farright', -0.11761067192979881),\n",
       " ('trump', -0.11688294385708231),\n",
       " ('financial', -0.11538806920037158),\n",
       " ('bomb', -0.11403019415264967),\n",
       " ('brazil', -0.11402277822178987),\n",
       " ('israeli', -0.11122278472490418),\n",
       " ('rights', -0.11108494160354515),\n",
       " ('war', -0.11087329433337914),\n",
       " ('attacks', -0.11083208539444388),\n",
       " ('win', -0.11058980874766929),\n",
       " ('trade', -0.10999126038705861),\n",
       " ('suspect', -0.10807476861940701),\n",
       " ('times', -0.10799697588835581),\n",
       " ('general', -0.10774664484829104),\n",
       " ('physics', -0.1073558340290107),\n",
       " ('sign', -0.10587602265608917),\n",
       " ('intelligence', -0.10568881123531232),\n",
       " ('trade war', -0.1052295140598429),\n",
       " ('home', -0.10519078591749587),\n",
       " ('murder', -0.10128103061713249),\n",
       " ('billion', -0.10076260701466026),\n",
       " ('report', -0.09968509560810447),\n",
       " ('referendum', -0.0985906346393166),\n",
       " ('interpol chief', -0.0978258792660288),\n",
       " ('venezuela', -0.09714803010931512),\n",
       " ('russian', -0.09638232598782953),\n",
       " ('year', -0.09628253530661544),\n",
       " ('leaders', -0.09579325649567044),\n",
       " ('dutch', -0.09392035796113322),\n",
       " ('hold', -0.0937759409548788),\n",
       " ('online', -0.09353281725404756),\n",
       " ('demand', -0.09170633120504611),\n",
       " ('force', -0.0913428636210116),\n",
       " ('banks', -0.09129219085196302),\n",
       " ('gaza', -0.09018190316301271),\n",
       " ('fine', -0.08933704578639853),\n",
       " ('agency', -0.0890789496817746),\n",
       " ('tsunami', -0.08907894968177457),\n",
       " ('set', -0.08667227907036498),\n",
       " ('australia', -0.08640340759177788),\n",
       " ('like', -0.08598478152189319),\n",
       " ('missing journalist', -0.08476671672544518),\n",
       " ('right', -0.08424487806462275),\n",
       " ('key', -0.08383135992698892),\n",
       " ('mexico', -0.08359954003436464),\n",
       " ('city', -0.08344625652548371),\n",
       " ('alleged', -0.08000010199153136),\n",
       " ('jailed', -0.07536524891116002),\n",
       " ('calls', -0.0745616108847454),\n",
       " ('man', -0.07425574548496582),\n",
       " ('south korea', -0.07410747525365988),\n",
       " ('shot', -0.07399578768759114),\n",
       " ('chinas', -0.07394571610312216),\n",
       " ('site', -0.07056522081538433),\n",
       " ('friday', -0.07000369317186925),\n",
       " ('turkish', -0.06956642533247867),\n",
       " ('quake', -0.06747544086514727),\n",
       " ('plot', -0.06676575873257723),\n",
       " ('seeks', -0.06463531936847254),\n",
       " ('held', -0.0641907930420273),\n",
       " ('jamal khashoggi', -0.06327308555442729),\n",
       " ('migrants', -0.06280991272793587),\n",
       " ('afghan', -0.06276329615353524),\n",
       " ('arabia', -0.06263174738499869),\n",
       " ('journalists', -0.06255560370766017),\n",
       " ('church', -0.062323245369012584),\n",
       " ('camps', -0.060207973126761016),\n",
       " ('possible', -0.0602043822739895),\n",
       " ('use', -0.059764802940437706),\n",
       " ('security', -0.05956730915419482),\n",
       " ('nuclear', -0.05947964849456295),\n",
       " ('brazils', -0.05940024158820206),\n",
       " ('saudi journalist', -0.057213278264841315),\n",
       " ('women', -0.05677861559546437),\n",
       " ('iraq', -0.056775677925265285),\n",
       " ('woman', -0.0555690753080531),\n",
       " ('detained', -0.05538101041835758),\n",
       " ('aid', -0.05519074042783806),\n",
       " ('climate', -0.054974925165118725),\n",
       " ('candidate', -0.05360276217478022),\n",
       " ('zone', -0.05352167720700128),\n",
       " ('poisoning', -0.05346381453958356),\n",
       " ('stop', -0.052611083985102204),\n",
       " ('apple', -0.0523645296381003),\n",
       " ('bulgarian', -0.051550549398533846),\n",
       " ('arrest', -0.05143047578495739),\n",
       " ('jair', -0.05096860111102285),\n",
       " ('suspected', -0.05050580935221479),\n",
       " ('pope francis', -0.05029883860993261),\n",
       " ('hongwei', -0.04961016101525193),\n",
       " ('legal', -0.048298461871898284),\n",
       " ('fears', -0.04740512747041803),\n",
       " ('probe', -0.047153255801266926),\n",
       " ('putin', -0.04714954350960501),\n",
       " ('nobel peace', -0.04665552800417245),\n",
       " ('chemical weapons', -0.04615342779726035),\n",
       " ('used', -0.04581356199428389),\n",
       " ('warming', -0.045208782908637966),\n",
       " ('union', -0.04520621777469681),\n",
       " ('disaster', -0.044755820356672686),\n",
       " ('imf', -0.04468052675634414),\n",
       " ('freedom', -0.04458960471327846),\n",
       " ('eu', -0.04440559372804651),\n",
       " ('order', -0.0441068801923856),\n",
       " ('countrys', -0.044076965346118865),\n",
       " ('support', -0.043740212200953525),\n",
       " ('money', -0.04292024468530496),\n",
       " ('reported', -0.042833665651076144),\n",
       " ('months', -0.042451280084306486),\n",
       " ('goes', -0.04245128008430647),\n",
       " ('tech', -0.04216658036141108),\n",
       " ('attack', -0.042148588849539925),\n",
       " ('trying', -0.04202204809869509),\n",
       " ('rejects', -0.041636431929986166),\n",
       " ('saudis', -0.041203561006780964),\n",
       " ('awarded', -0.040461569127042935),\n",
       " ('told', -0.03783608136561131),\n",
       " ('london', -0.03755288871822109),\n",
       " ('weeks', -0.036802204926087635),\n",
       " ('forest', -0.036600780245771534),\n",
       " ('ukraine', -0.03641640896496665),\n",
       " ('thousands', -0.03630955105491073),\n",
       " ('violence', -0.03626247382184887),\n",
       " ('dissident', -0.03565108054698975),\n",
       " ('coal', -0.03523377162148342),\n",
       " ('sydney', -0.03513411607029406),\n",
       " ('national', -0.03491512564537014),\n",
       " ('latest', -0.03460614312954518),\n",
       " ('babies', -0.03437899302727364),\n",
       " ('airport', -0.03397778592180539),\n",
       " ('medical', -0.033738111532682656),\n",
       " ('protests', -0.03354227020262919),\n",
       " ('target', -0.03310877253666622),\n",
       " ('reports', -0.03271807238507165),\n",
       " ('meng hongwei', -0.031530803478117264),\n",
       " ('car', -0.03151580158430067),\n",
       " ('protest', -0.03150678726977175),\n",
       " ('poll', -0.03134194411714285),\n",
       " ('corruption', -0.030946269246303688),\n",
       " ('saudi arabia', -0.030263990070482916),\n",
       " ('data', -0.030263990070482916),\n",
       " ('cut', -0.029734871606100773),\n",
       " ('horse', -0.02968167841014522),\n",
       " ('new zealand', -0.02914361641943569),\n",
       " ('spy', -0.028874809467548918),\n",
       " ('german', -0.027969752029023704),\n",
       " ('dozens', -0.02710766778254594),\n",
       " ('criminal', -0.026936073030846833),\n",
       " ('plastic', -0.02638049756313008),\n",
       " ('major', -0.025665012983426095),\n",
       " ('case', -0.02556234195273819),\n",
       " ('germany', -0.025415124778210053),\n",
       " ('sex', -0.025135297269516292),\n",
       " ('close', -0.02434904756722123),\n",
       " ('leader', -0.023997766968527172),\n",
       " ('south china', -0.02351720833785737),\n",
       " ('crash', -0.023517208337857348),\n",
       " ('help', -0.023358088709164653),\n",
       " ('month', -0.023299595303135957),\n",
       " ('law', -0.023286260699252485),\n",
       " ('administration', -0.022769668571990198),\n",
       " ('meng', -0.02253704402307584),\n",
       " ('say', -0.02225054350449459),\n",
       " ('japans', -0.022202261240284144),\n",
       " ('turkey', -0.01885319971285725),\n",
       " ('spies', -0.018782608172401013),\n",
       " ('house', -0.018499041573778414),\n",
       " ('deal', -0.017599815350217898),\n",
       " ('pm', -0.017562705258694727),\n",
       " ('nato', -0.01694658549494126),\n",
       " ('ban', -0.015927470522886542),\n",
       " ('finds', -0.01572356198707047),\n",
       " ('cannabis', -0.015072212111310311),\n",
       " ('kills', -0.014993725279121043),\n",
       " ('trumps', -0.014340029146498645),\n",
       " ('kill', -0.014340029146498626),\n",
       " ('drug', -0.01373405525105909),\n",
       " ('syria', -0.012789479698415429),\n",
       " ('country', -0.012019098729104016),\n",
       " ('iranian', -0.010940429715134009),\n",
       " ('malaysia', -0.010874242207708974),\n",
       " ('brexit', -0.010506055619502089),\n",
       " ('says', -0.010218118484518895),\n",
       " ('time', -0.009179288171100983),\n",
       " ('future', -0.008530311070385514),\n",
       " ('university', -0.008508299221641442),\n",
       " ('students', -0.008239517342142627),\n",
       " ('new', -0.007931039398331308),\n",
       " ('fight', -0.007506648823563299),\n",
       " ('death', -0.007274631427920065),\n",
       " ('countries', -0.006423384323439756),\n",
       " ('beijing', -0.005680414138023237),\n",
       " ('following', -0.0052302222571381585),\n",
       " ('head', -0.005136882674860489),\n",
       " ('authorities', -0.005117637695776003),\n",
       " ('chinese', -0.005093685984460074),\n",
       " ('prince', -0.004278784981320145),\n",
       " ('consulate', -0.00417762279323337),\n",
       " ('saudi consulate', -0.004098742821455338),\n",
       " ('cancer', -0.003775737005004497),\n",
       " ('called', -0.003392890172977402),\n",
       " ('opera house', -0.0033704532331410896),\n",
       " ('central', -0.002736035095030706),\n",
       " ('likely', -0.002403593048092177),\n",
       " ('space', -0.0019348178060655092),\n",
       " ('pope', -0.001354966720361377),\n",
       " ('title_length', 8.437018542928984e-07),\n",
       " ('abuse', 0.0002677199581579384),\n",
       " ('day', 0.0007920740195553181),\n",
       " ('schools', 0.0007920740195553367),\n",
       " ('chemical', 0.0008293989852882428),\n",
       " ('japanese', 0.0017870964827568123),\n",
       " ('consulate istanbul', 0.002383794951867068),\n",
       " ('sales', 0.002391255342517621),\n",
       " ('largest', 0.002442876909851566),\n",
       " ('japan', 0.0025916305446785047),\n",
       " ('sea', 0.0034013455650058603),\n",
       " ('warning', 0.004080646719769735),\n",
       " ('student', 0.004130146395500777),\n",
       " ('russias', 0.004600958784806146),\n",
       " ('journalist', 0.005786099716272294),\n",
       " ('macron', 0.007286537385937142),\n",
       " ('huge', 0.007286537385937152),\n",
       " ('days', 0.00814244816944175),\n",
       " ('growth', 0.008157689776206371),\n",
       " ('near', 0.008249047403069813),\n",
       " ('using', 0.008309587157168641),\n",
       " ('sexual', 0.008640340256278826),\n",
       " ('boycott', 0.008680826321922347),\n",
       " ('killed', 0.010373504875714055),\n",
       " ('elections', 0.011247480281976219),\n",
       " ('pakistan', 0.011277619671144214),\n",
       " ('nobel', 0.012101235610060889),\n",
       " ('britain', 0.012727709309732833),\n",
       " ('toll', 0.013067358034746313),\n",
       " ('upvotes_logged', 0.014203251152251217),\n",
       " ('work', 0.01474389742595551),\n",
       " ('paris', 0.015165917274248111),\n",
       " ('north korea', 0.015357469553037191),\n",
       " ('missile', 0.015597340350857204),\n",
       " ('team', 0.01700594509516862),\n",
       " ('seven', 0.01743223501358221),\n",
       " ('make', 0.01777563903693265),\n",
       " ('ordered', 0.01787685205753337),\n",
       " ('world', 0.01888519232496755),\n",
       " ('states', 0.019166774581059483),\n",
       " ('hit', 0.019180651935044382),\n",
       " ('week', 0.019384129438453038),\n",
       " ('sunday', 0.019457813649165805),\n",
       " ('world news', 0.01964456722510559),\n",
       " ('moscow', 0.01973589560929429),\n",
       " ('uk', 0.020597971107039814),\n",
       " ('second', 0.020844965047056466),\n",
       " ('cuts', 0.021555238359949793),\n",
       " ('peace', 0.022363821052527377),\n",
       " ('interpol', 0.022730711763470333),\n",
       " ('arrested', 0.023762707626457748),\n",
       " ('china sea', 0.023926437839977915),\n",
       " ('search', 0.023978635471919214),\n",
       " ('scientists', 0.02479441070147089),\n",
       " ('jail', 0.02499606359070748),\n",
       " ('media', 0.025534891001480303),\n",
       " ('kim', 0.025704420784696667),\n",
       " ('leaves', 0.025778127503723033),\n",
       " ('thursday', 0.02722355483890988),\n",
       " ('gas', 0.02759871094194554),\n",
       " ('threatened', 0.02857832078191057),\n",
       " ('guilty', 0.028583224047350936),\n",
       " ('visa', 0.028647214172962406),\n",
       " ('european', 0.028904307996688458),\n",
       " ('face', 0.028953011297690356),\n",
       " ('industry', 0.029079661521605165),\n",
       " ('hacking', 0.029641468060815582),\n",
       " ('just', 0.02993749164176946),\n",
       " ('threatens', 0.03161437454697279),\n",
       " ('said', 0.03193740405184594),\n",
       " ('state', 0.03294163789511337),\n",
       " ('accuses', 0.033044248122448425),\n",
       " ('planet', 0.03368355760023312),\n",
       " ('nobel prize', 0.034110080974718376),\n",
       " ('workers', 0.034275025279356046),\n",
       " ('news', 0.035084243811584176),\n",
       " ('hong', 0.036042615472788225),\n",
       " ('leave', 0.03614043143155864),\n",
       " ('wont', 0.03664029912961867),\n",
       " ('theresa', 0.03665518034847637),\n",
       " ('backs', 0.03706537047290277),\n",
       " ('high', 0.03763928981658076),\n",
       " ('accused', 0.038006721756314796),\n",
       " ('campaign', 0.038567812644775754),\n",
       " ('areas', 0.03873167396198437),\n",
       " ('wife', 0.03885599258248981),\n",
       " ('sanctions', 0.03900161993498457),\n",
       " ('haiti', 0.03951481575000582),\n",
       " ('indonesian', 0.03988411225070609),\n",
       " ('french', 0.039903002128947596),\n",
       " ('opera', 0.042087333988505775),\n",
       " ('officials', 0.0421304095755081),\n",
       " ('tells', 0.04273457798210885),\n",
       " ('economy', 0.0428570097482089),\n",
       " ('carbon', 0.04461184397789288),\n",
       " ('lead', 0.044621089278385234),\n",
       " ('wants', 0.0449984000332765),\n",
       " ('palestinian', 0.04502197754996166),\n",
       " ('erdogan', 0.04516874408658978),\n",
       " ('sum', 0.04587136996972789),\n",
       " ('forces', 0.04753500849312132),\n",
       " ('energy', 0.04759085037834005),\n",
       " ('indonesia', 0.04806086831059058),\n",
       " ('stolen', 0.04841840834430367),\n",
       " ('taking', 0.050176946381514737),\n",
       " ('parliament', 0.05142304969879666),\n",
       " ('racing', 0.05160035721872944),\n",
       " ('cyber', 0.052465316269430184),\n",
       " ('israel', 0.05261358402554636),\n",
       " ('policy', 0.052969018907418494),\n",
       " ('way', 0.05439952202057106),\n",
       " ('presidential', 0.0557133476934183),\n",
       " ('northern', 0.05608610360649582),\n",
       " ('marriage', 0.0563485901349288),\n",
       " ('warns', 0.05636504820084579),\n",
       " ('peace prize', 0.05661971433960898),\n",
       " ('religious', 0.05731363762903489),\n",
       " ('biggest', 0.05805885669597628),\n",
       " ('deals', 0.05922025913760385),\n",
       " ('chief', 0.05966651413327785),\n",
       " ('study', 0.05993646018754926),\n",
       " ('died', 0.05997875365400053),\n",
       " ('korea', 0.06072175352484859),\n",
       " ('island', 0.060958342968297066),\n",
       " ('free', 0.061738154325018196),\n",
       " ('rules', 0.06293871941353046),\n",
       " ('canadian', 0.06329730567750416),\n",
       " ('open', 0.06331222639647004),\n",
       " ('charged', 0.06335523446574733),\n",
       " ('products', 0.06439110245438126),\n",
       " ('killing', 0.06500453195337608),\n",
       " ('mexican', 0.06600234092924431),\n",
       " ('ruling', 0.06853179244000061),\n",
       " ('disappearance', 0.06862954934963042),\n",
       " ('president', 0.06893982147387787),\n",
       " ('oil', 0.0692448252458714),\n",
       " ('research', 0.06930695613390608),\n",
       " ('prime', 0.07051352728187374),\n",
       " ('trial', 0.07102972185926439),\n",
       " ('plan', 0.07154798488916504),\n",
       " ('including', 0.0739489620305296),\n",
       " ('italian', 0.0745277617830583),\n",
       " ('trip', 0.07481683222099542),\n",
       " ('bolsonaro', 0.07512943249414585),\n",
       " ('google', 0.07610980071027726),\n",
       " ('victims', 0.0767699638121394),\n",
       " ('earthquake', 0.07761644290680392),\n",
       " ('pompeo', 0.07919382976719322),\n",
       " ('away', 0.07957184161311982),\n",
       " ('official', 0.07997657497906759),\n",
       " ('hong kong', 0.08010684991989787),\n",
       " ('syrian', 0.08030977494678447),\n",
       " ('ireland', 0.08092245967892343),\n",
       " ('threat', 0.08115124750888898),\n",
       " ('global warming', 0.08192161519231463),\n",
       " ('group', 0.08202251632207343),\n",
       " ('canada', 0.08213748134822986),\n",
       " ('terror', 0.0826100740547864),\n",
       " ('power', 0.0842784949389477),\n",
       " ('party', 0.08560467151813504),\n",
       " ('gay', 0.08571337985886475),\n",
       " ('pay', 0.08841419082506172),\n",
       " ('gru', 0.08897961215835468),\n",
       " ('rohingya', 0.08996625288895538),\n",
       " ('allow', 0.09027793784373528),\n",
       " ('people', 0.09067787051032188),\n",
       " ('border', 0.09078549655675475),\n",
       " ('despite', 0.0932070994039992),\n",
       " ('forced', 0.09332637176078738),\n",
       " ('foreign', 0.09346191384016643),\n",
       " ('weapons', 0.0953812345422682),\n",
       " ('vote', 0.0959094950420214),\n",
       " ('skripal', 0.0966745712227816),\n",
       " ('missiles', 0.09765731474294372),\n",
       " ('percent', 0.09828190326628111),\n",
       " ('groups', 0.10012272239825687),\n",
       " ('indian', 0.10022526982835113),\n",
       " ('parts', 0.10216445211014681),\n",
       " ('investigation', 0.10252994480289093),\n",
       " ('south', 0.10440915503739752),\n",
       " ('school', 0.10532502116494558),\n",
       " ('waste', 0.10667793224839316),\n",
       " ('meeting', 0.10768086556836477),\n",
       " ('korean', 0.10881867264516452),\n",
       " ('francis', 0.11027063259443098),\n",
       " ('international', 0.1120770064128594),\n",
       " ('charges', 0.11440796062586589),\n",
       " ('air', 0.11454805021627695),\n",
       " ('opposition', 0.11501362034515314),\n",
       " ('plans', 0.11546268788374776),\n",
       " ('tax', 0.11930541573521232),\n",
       " ('rise', 0.11963118313327482),\n",
       " ('police', 0.12049043809992221),\n",
       " ('faces', 0.12142127547161931),\n",
       " ('istanbul', 0.12326904004043351),\n",
       " ('body', 0.12367398289992167),\n",
       " ('million', 0.12406156409127547),\n",
       " ('children', 0.1262641532567558),\n",
       " ('france', 0.12635170786679586),\n",
       " ('orders', 0.12779894642648498),\n",
       " ('amazon', 0.13576134221949746),\n",
       " ('zealand', 0.138131493885507),\n",
       " ('massive', 0.13910731150668987),\n",
       " ('risk', 0.13986307038912107),\n",
       " ('election', 0.14264454341964178),\n",
       " ('bank', 0.14354485114771076),\n",
       " ('ties', 0.14414435433061798),\n",
       " ('according', 0.15063372603694264),\n",
       " ('amid', 0.15094727639340796),\n",
       " ('signs', 0.1546501657731189),\n",
       " ('global', 0.15647585466154637),\n",
       " ('tuesday', 0.1566913365224535),\n",
       " ('ministry', 0.167500841078461),\n",
       " ('claims', 0.1698601587992981),\n",
       " ('crisis', 0.1742981997225895),\n",
       " ('left', 0.1747678725489549),\n",
       " ('linked', 0.17588892407631881),\n",
       " ('china', 0.1759038514968171),\n",
       " ('talks', 0.18782907795478213),\n",
       " ('end', 0.20337722556380514),\n",
       " ('press', 0.21088518600023357),\n",
       " ('court', 0.2120209588340876),\n",
       " ('race', 0.21395861840076408),\n",
       " ('dead', 0.2503673294862654),\n",
       " ('minister', 0.27288621299806654),\n",
       " ('russia', 0.2739783111067374),\n",
       " ('american', 0.28285483937576533)]"
      ]
     },
     "execution_count": 142,
     "metadata": {},
     "output_type": "execute_result"
    }
   ],
   "source": [
    "coefs = []\n",
    "for item1, item2 in zip(df11.columns.values,rcv.coef_):\n",
    "    tup = (item1, item2)\n",
    "    coefs.append(tup)\n",
    "\n",
    "sorted(coefs, key=lambda x: x[1])"
   ]
  },
  {
   "cell_type": "code",
   "execution_count": 143,
   "metadata": {},
   "outputs": [
    {
     "data": {
      "text/plain": [
       "0.13856220288101273"
      ]
     },
     "execution_count": 143,
     "metadata": {},
     "output_type": "execute_result"
    }
   ],
   "source": [
    "rcv.score(X_train, y_train)"
   ]
  },
  {
   "cell_type": "code",
   "execution_count": 144,
   "metadata": {},
   "outputs": [
    {
     "data": {
      "text/plain": [
       "0.1213499723599446"
      ]
     },
     "execution_count": 144,
     "metadata": {},
     "output_type": "execute_result"
    }
   ],
   "source": [
    "rcv.score(X_test, y_test)"
   ]
  },
  {
   "cell_type": "code",
   "execution_count": 145,
   "metadata": {},
   "outputs": [
    {
     "data": {
      "text/plain": [
       "<matplotlib.collections.PathCollection at 0x1a420135f8>"
      ]
     },
     "execution_count": 145,
     "metadata": {},
     "output_type": "execute_result"
    },
    {
     "data": {
      "image/png": "[encoded data removed]",
      "text/plain": [
       "<Figure size 432x288 with 1 Axes>"
      ]
     },
     "metadata": {},
     "output_type": "display_data"
    }
   ],
   "source": [
    "pred = rcv.predict(X_test)\n",
    "plt.scatter(pred,y_test,alpha=.1, color = '#FF5700')"
   ]
  },
  {
   "cell_type": "code",
   "execution_count": 146,
   "metadata": {},
   "outputs": [
    {
     "data": {
      "image/png": "[encoded data removed]",
      "text/plain": [
       "<Figure size 432x288 with 1 Axes>"
      ]
     },
     "metadata": {},
     "output_type": "display_data"
    }
   ],
   "source": [
    "plt.scatter(pred,y_test-pred,alpha=.1, color = '#FF5700')\n",
    "plt.title('Residuals', fontsize = 25, weight = 'bold')\n",
    "sns.despine();"
   ]
  },
  {
   "cell_type": "code",
   "execution_count": 147,
   "metadata": {},
   "outputs": [
    {
     "data": {
      "image/png": "[encoded data removed]",
      "text/plain": [
       "<Figure size 432x288 with 1 Axes>"
      ]
     },
     "metadata": {},
     "output_type": "display_data"
    }
   ],
   "source": [
    "fig = plt.figure()\n",
    "ax = fig.add_subplot(111)\n",
    "res = stats.probplot(y_test-pred, dist=\"norm\", plot=plt)\n",
    "ax.get_lines()[0].set_color('#FF5700')\n",
    "plt.title('Normal Q-Q Plot', fontsize = 20, weight = 'bold')\n",
    "sns.despine();"
   ]
  },
  {
   "cell_type": "code",
   "execution_count": 148,
   "metadata": {},
   "outputs": [
    {
     "data": {
      "text/plain": [
       "1.7933432143799197"
      ]
     },
     "execution_count": 148,
     "metadata": {},
     "output_type": "execute_result"
    }
   ],
   "source": [
    "np.sqrt(np.mean((pred - y_test)**2))"
   ]
  },
  {
   "cell_type": "markdown",
   "metadata": {},
   "source": [
    "# 12. Top Word Distributions"
   ]
  },
  {
   "cell_type": "code",
   "execution_count": 149,
   "metadata": {},
   "outputs": [
    {
     "name": "stderr",
     "output_type": "stream",
     "text": [
      "/anaconda3/lib/python3.6/site-packages/matplotlib/axes/_axes.py:6462: UserWarning: The 'normed' kwarg is deprecated, and has been replaced by the 'density' kwarg.\n",
      "  warnings.warn(\"The 'normed' kwarg is deprecated, and has been \"\n",
      "/anaconda3/lib/python3.6/site-packages/matplotlib/axes/_axes.py:6462: UserWarning: The 'normed' kwarg is deprecated, and has been replaced by the 'density' kwarg.\n",
      "  warnings.warn(\"The 'normed' kwarg is deprecated, and has been \"\n",
      "/anaconda3/lib/python3.6/site-packages/matplotlib/axes/_axes.py:6462: UserWarning: The 'normed' kwarg is deprecated, and has been replaced by the 'density' kwarg.\n",
      "  warnings.warn(\"The 'normed' kwarg is deprecated, and has been \"\n",
      "/anaconda3/lib/python3.6/site-packages/matplotlib/axes/_axes.py:6462: UserWarning: The 'normed' kwarg is deprecated, and has been replaced by the 'density' kwarg.\n",
      "  warnings.warn(\"The 'normed' kwarg is deprecated, and has been \"\n"
     ]
    },
    {
     "data": {
      "image/png": "[encoded data removed]",
      "text/plain": [
       "<Figure size 432x288 with 1 Axes>"
      ]
     },
     "metadata": {},
     "output_type": "display_data"
    }
   ],
   "source": [
    "df12 = df12[['upvotes_logged','trump','china','saudi','uk']]\n",
    "df121 = df12[df12.trump > 0].reset_index(drop=True)\n",
    "df122 = df12[df12.china > 0].reset_index(drop=True)\n",
    "df123 = df12[df12.saudi > 0].reset_index(drop=True)\n",
    "df124 = df12[df12.uk > 0].reset_index(drop=True)\n",
    "\n",
    "sns.distplot(df121['upvotes_logged'], label = 'Trump')\n",
    "sns.distplot(df122['upvotes_logged'], label = 'China')\n",
    "sns.distplot(df123['upvotes_logged'], label = 'Saudi')\n",
    "sns.distplot(df124['upvotes_logged'], label = 'UK')\n",
    "\n",
    "plt.title('Top Word Distributions', fontsize = 15, weight = 'bold')\n",
    "plt.xlabel('Logged Upvotes', fontsize = 15)\n",
    "\n",
    "plt.legend()\n",
    "sns.despine();"
   ]
  }
 ],
 "metadata": {
  "kernelspec": {
   "display_name": "Python 3",
   "language": "python",
   "name": "python3"
  },
  "language_info": {
   "codemirror_mode": {
    "name": "ipython",
    "version": 3
   },
   "file_extension": ".py",
   "mimetype": "text/x-python",
   "name": "python",
   "nbconvert_exporter": "python",
   "pygments_lexer": "ipython3",
   "version": "3.6.5"
  }
 },
 "nbformat": 4,
 "nbformat_minor": 2
}
